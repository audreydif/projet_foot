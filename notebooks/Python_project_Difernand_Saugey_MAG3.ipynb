{
 "cells": [
  {
   "cell_type": "markdown",
   "metadata": {},
   "source": [
    "# PROJET FINAL MAG3 : Prédictions de cotes \n",
    "## DIFERNAND Audrey, SAUGEY Marie "
   ]
  },
  {
   "cell_type": "markdown",
   "metadata": {},
   "source": [
    "Pour ce projet, nous avons choisi de nous intéresser aux matchs de Premier League, championnat de football en Angleterre entre 2006 et 2016. Nous utilisons deux bases de données différentes: la première est la table \"stats\" avec des données sur chaque équipe, chaque saison de 2006-2007 à 2016-2017, le deuxième type de bases de données concerne des tables par saison, récapitulant les données par match où se trouve les données sur les côtes de paris sportifs. Dans un premier temps, on organisera les données afin de pouvoir les utiliser correctement. Puis, nous réaliserons quelques statistiques descriptives. Enfin, nous tenterons de prédire la côte au temps t à partir de variables au temps t-1, notamment de la côte au temps t-1."
   ]
  },
  {
   "cell_type": "markdown",
   "metadata": {},
   "source": [
    "### Data Preparation"
   ]
  },
  {
   "cell_type": "markdown",
   "metadata": {},
   "source": [
    "#### Importation des packages nécessaires"
   ]
  },
  {
   "cell_type": "code",
   "execution_count": 1,
   "metadata": {},
   "outputs": [],
   "source": [
    "import pandas as pd \n",
    "import matplotlib.pyplot as plt\n",
    "import numpy as np \n",
    "%matplotlib inline\n",
    "\n",
    "from sklearn.ensemble import RandomForestRegressor\n",
    "from sklearn.model_selection import cross_val_score\n",
    "import  statsmodels.formula.api as sm\n",
    "from sklearn.linear_model import LinearRegression\n",
    "from sklearn.metrics import mean_squared_error\n",
    "from sklearn.model_selection import GridSearchCV\n",
    "\n",
    "from sklearn.model_selection import train_test_split\n",
    "\n",
    "from sklearn.linear_model import LogisticRegression\n",
    "from sklearn import metrics\n",
    "from sklearn.metrics import classification_report, confusion_matrix  \n",
    "\n",
    "from sklearn.metrics import roc_auc_score\n",
    "from sklearn.metrics import roc_curve\n",
    "\n",
    "import seaborn as sns\n",
    "\n",
    "import statsmodels.api as sm"
   ]
  },
  {
   "cell_type": "markdown",
   "metadata": {},
   "source": [
    "#### Importation des données "
   ]
  },
  {
   "cell_type": "code",
   "execution_count": 2,
   "metadata": {},
   "outputs": [],
   "source": [
    "stats = pd.read_csv('stats.csv', sep=\";\")"
   ]
  },
  {
   "cell_type": "code",
   "execution_count": 3,
   "metadata": {},
   "outputs": [],
   "source": [
    "odd6= pd.read_csv('E6.csv',sep=';')\n",
    "odd7= pd.read_csv('E7.csv',sep=';')\n",
    "odd8= pd.read_csv('E8.csv',sep=';')\n",
    "odd9= pd.read_csv('E9.csv',sep=';')\n",
    "odd10= pd.read_csv('E10.csv',sep=';')\n",
    "odd11= pd.read_csv('E11.csv',sep=';')\n",
    "odd12= pd.read_csv('E12.csv',sep=';')\n",
    "odd13= pd.read_csv('E13.csv',sep=';')\n",
    "odd14= pd.read_csv('E14.csv',sep=';')\n",
    "odd15= pd.read_csv('E15.csv',sep=';')\n",
    "odd16= pd.read_csv('E16.csv',sep=';')"
   ]
  },
  {
   "cell_type": "markdown",
   "metadata": {},
   "source": [
    "#### Nettoyage des tables "
   ]
  },
  {
   "cell_type": "markdown",
   "metadata": {},
   "source": [
    "On ne garde que les variables qui nous intéressent : la date et le résultat du match, l'équipe à domicile, l'équipe à l'extérieur, le nombre de buts, de tirs, de tirs cadrés, de corners, de fautes, de cartons jaunes, de cartons rouges pour les deux équipes. Nous avons également le nombre de buts et le résultat à la mi-temps et les côtes de paris sportifs sur BET365."
   ]
  },
  {
   "cell_type": "code",
   "execution_count": 4,
   "metadata": {},
   "outputs": [],
   "source": [
    "odd6 = odd6[['Date','HomeTeam','AwayTeam','FTHG','FTAG','FTR','HTHG','HTAG','HTR','Referee','HS',\n",
    "            'AS','HST','AST','HC','AC','HF','AF','HY','AY','HR','AR','B365H','B365A','B365D',\n",
    "            'BbMxH','BbAvH','BbMxD','BbAvD','BbMxA','BbAvA',\n",
    "            'BbMx>2.5', 'BbAv>2.5', 'BbMx<2.5', 'BbAv<2.5']]\n",
    "odd7 = odd7[['Date','HomeTeam','AwayTeam','FTHG','FTAG','FTR','HTHG','HTAG','HTR','Referee','HS',\n",
    "            'AS','HST','AST','HC','AC','HF','AF','HY','AY','HR','AR','B365H','B365A','B365D',\n",
    "            'BbMxH','BbAvH','BbMxD','BbAvD','BbMxA','BbAvA',\n",
    "            'BbMx>2.5', 'BbAv>2.5', 'BbMx<2.5', 'BbAv<2.5']]\n",
    "odd8 = odd8[['Date','HomeTeam','AwayTeam','FTHG','FTAG','FTR','HTHG','HTAG','HTR','Referee','HS',\n",
    "            'AS','HST','AST','HC','AC','HF','AF','HY','AY','HR','AR','B365H','B365A','B365D',\n",
    "            'BbMxH','BbAvH','BbMxD','BbAvD','BbMxA','BbAvA',\n",
    "            'BbMx>2.5', 'BbAv>2.5', 'BbMx<2.5', 'BbAv<2.5']]\n",
    "odd9 = odd9[['Date','HomeTeam','AwayTeam','FTHG','FTAG','FTR','HTHG','HTAG','HTR','Referee','HS',\n",
    "            'AS','HST','AST','HC','AC','HF','AF','HY','AY','HR','AR','B365H','B365A','B365D',\n",
    "            'BbMxH','BbAvH','BbMxD','BbAvD','BbMxA','BbAvA',\n",
    "            'BbMx>2.5', 'BbAv>2.5', 'BbMx<2.5', 'BbAv<2.5']]\n",
    "odd10 = odd10[['Date','HomeTeam','AwayTeam','FTHG','FTAG','FTR','HTHG','HTAG','HTR','Referee','HS',\n",
    "            'AS','HST','AST','HC','AC','HF','AF','HY','AY','HR','AR','B365H','B365A','B365D',\n",
    "              'BbMxH','BbAvH','BbMxD','BbAvD','BbMxA','BbAvA',\n",
    "              'BbMx>2.5', 'BbAv>2.5', 'BbMx<2.5', 'BbAv<2.5']]\n",
    "odd11 = odd11[['Date','HomeTeam','AwayTeam','FTHG','FTAG','FTR','HTHG','HTAG','HTR','Referee','HS',\n",
    "            'AS','HST','AST','HC','AC','HF','AF','HY','AY','HR','AR','B365H','B365A','B365D',\n",
    "              'BbMxH','BbAvH','BbMxD','BbAvD','BbMxA','BbAvA',\n",
    "              'BbMx>2.5', 'BbAv>2.5', 'BbMx<2.5', 'BbAv<2.5']]\n",
    "odd12 = odd12[['Date','HomeTeam','AwayTeam','FTHG','FTAG','FTR','HTHG','HTAG','HTR','Referee','HS',\n",
    "            'AS','HST','AST','HC','AC','HF','AF','HY','AY','HR','AR','B365H','B365A','B365D',\n",
    "              'BbMxH','BbAvH','BbMxD','BbAvD','BbMxA','BbAvA',\n",
    "              'BbMx>2.5', 'BbAv>2.5', 'BbMx<2.5', 'BbAv<2.5']]\n",
    "odd13 = odd13[['Date','HomeTeam','AwayTeam','FTHG','FTAG','FTR','HTHG','HTAG','HTR','Referee','HS',\n",
    "            'AS','HST','AST','HC','AC','HF','AF','HY','AY','HR','AR','B365H','B365A','B365D',\n",
    "              'BbMxH','BbAvH','BbMxD','BbAvD','BbMxA','BbAvA',\n",
    "              'BbMx>2.5', 'BbAv>2.5', 'BbMx<2.5', 'BbAv<2.5']]\n",
    "odd14 = odd14[['Date','HomeTeam','AwayTeam','FTHG','FTAG','FTR','HTHG','HTAG','HTR','Referee','HS',\n",
    "            'AS','HST','AST','HC','AC','HF','AF','HY','AY','HR','AR','B365H','B365A','B365D',\n",
    "              'BbMxH','BbAvH','BbMxD','BbAvD','BbMxA','BbAvA',\n",
    "              'BbMx>2.5', 'BbAv>2.5', 'BbMx<2.5', 'BbAv<2.5']]\n",
    "odd15 = odd15[['Date','HomeTeam','AwayTeam','FTHG','FTAG','FTR','HTHG','HTAG','HTR','Referee','HS',\n",
    "            'AS','HST','AST','HC','AC','HF','AF','HY','AY','HR','AR','B365H','B365A','B365D',\n",
    "              'BbMxH','BbAvH','BbMxD','BbAvD','BbMxA','BbAvA',\n",
    "              'BbMx>2.5', 'BbAv>2.5', 'BbMx<2.5', 'BbAv<2.5']]\n",
    "odd16 = odd16[['Date','HomeTeam','AwayTeam','FTHG','FTAG','FTR','HTHG','HTAG','HTR','Referee','HS',\n",
    "            'AS','HST','AST','HC','AC','HF','AF','HY','AY','HR','AR','B365H','B365A','B365D',\n",
    "              'BbMxH','BbAvH','BbMxD','BbAvD','BbMxA','BbAvA',\n",
    "              'BbMx>2.5', 'BbAv>2.5', 'BbMx<2.5', 'BbAv<2.5']]"
   ]
  },
  {
   "cell_type": "code",
   "execution_count": 5,
   "metadata": {},
   "outputs": [],
   "source": [
    "odd6['season'] = '2006-2007'\n",
    "odd7['season'] = '2007-2008'\n",
    "odd8['season'] = '2008-2009'\n",
    "odd9['season'] = '2009-2010'\n",
    "odd10['season'] = '2010-2011'\n",
    "odd11['season'] = '2011-2012'\n",
    "odd12['season'] = '2012-2013'\n",
    "odd13['season'] = '2013-2014'\n",
    "odd14['season'] = '2014-2015'\n",
    "odd15['season'] = '2015-2016'\n",
    "odd16['season'] = '2016-2017'"
   ]
  },
  {
   "cell_type": "markdown",
   "metadata": {},
   "source": [
    "Fusion des tables de matchs"
   ]
  },
  {
   "cell_type": "code",
   "execution_count": 6,
   "metadata": {},
   "outputs": [],
   "source": [
    "df = pd.concat([odd6,odd7,odd8,odd9,odd10,odd11,odd12,odd13,odd14,odd15,odd16], axis=0, join='outer')"
   ]
  },
  {
   "cell_type": "code",
   "execution_count": 7,
   "metadata": {},
   "outputs": [
    {
     "data": {
      "text/plain": [
       "Index(['Date', 'HomeTeam', 'AwayTeam', 'FTHG', 'FTAG', 'FTR', 'HTHG', 'HTAG',\n",
       "       'HTR', 'Referee', 'HS', 'AS', 'HST', 'AST', 'HC', 'AC', 'HF', 'AF',\n",
       "       'HY', 'AY', 'HR', 'AR', 'B365H', 'B365A', 'B365D', 'BbMxH', 'BbAvH',\n",
       "       'BbMxD', 'BbAvD', 'BbMxA', 'BbAvA', 'BbMx>2.5', 'BbAv>2.5', 'BbMx<2.5',\n",
       "       'BbAv<2.5', 'season'],\n",
       "      dtype='object')"
      ]
     },
     "execution_count": 7,
     "metadata": {},
     "output_type": "execute_result"
    }
   ],
   "source": [
    "df.columns"
   ]
  },
  {
   "cell_type": "code",
   "execution_count": 8,
   "metadata": {},
   "outputs": [
    {
     "data": {
      "text/html": [
       "<div>\n",
       "<style scoped>\n",
       "    .dataframe tbody tr th:only-of-type {\n",
       "        vertical-align: middle;\n",
       "    }\n",
       "\n",
       "    .dataframe tbody tr th {\n",
       "        vertical-align: top;\n",
       "    }\n",
       "\n",
       "    .dataframe thead th {\n",
       "        text-align: right;\n",
       "    }\n",
       "</style>\n",
       "<table border=\"1\" class=\"dataframe\">\n",
       "  <thead>\n",
       "    <tr style=\"text-align: right;\">\n",
       "      <th></th>\n",
       "      <th>Date</th>\n",
       "      <th>HomeTeam</th>\n",
       "      <th>AwayTeam</th>\n",
       "      <th>FTHG</th>\n",
       "      <th>FTAG</th>\n",
       "      <th>FTR</th>\n",
       "      <th>HTHG</th>\n",
       "      <th>HTAG</th>\n",
       "      <th>HTR</th>\n",
       "      <th>Referee</th>\n",
       "      <th>...</th>\n",
       "      <th>BbAvH</th>\n",
       "      <th>BbMxD</th>\n",
       "      <th>BbAvD</th>\n",
       "      <th>BbMxA</th>\n",
       "      <th>BbAvA</th>\n",
       "      <th>BbMx&gt;2.5</th>\n",
       "      <th>BbAv&gt;2.5</th>\n",
       "      <th>BbMx&lt;2.5</th>\n",
       "      <th>BbAv&lt;2.5</th>\n",
       "      <th>season</th>\n",
       "    </tr>\n",
       "  </thead>\n",
       "  <tbody>\n",
       "    <tr>\n",
       "      <th>0</th>\n",
       "      <td>19/08/2006</td>\n",
       "      <td>Arsenal</td>\n",
       "      <td>Aston Villa</td>\n",
       "      <td>1</td>\n",
       "      <td>1</td>\n",
       "      <td>D</td>\n",
       "      <td>0</td>\n",
       "      <td>0</td>\n",
       "      <td>D</td>\n",
       "      <td>G Poll</td>\n",
       "      <td>...</td>\n",
       "      <td>1.27</td>\n",
       "      <td>5.50</td>\n",
       "      <td>4.82</td>\n",
       "      <td>13.25</td>\n",
       "      <td>10.72</td>\n",
       "      <td>1.83</td>\n",
       "      <td>1.75</td>\n",
       "      <td>2.12</td>\n",
       "      <td>2.01</td>\n",
       "      <td>2006-2007</td>\n",
       "    </tr>\n",
       "    <tr>\n",
       "      <th>1</th>\n",
       "      <td>19/08/2006</td>\n",
       "      <td>Bolton</td>\n",
       "      <td>Tottenham</td>\n",
       "      <td>2</td>\n",
       "      <td>0</td>\n",
       "      <td>H</td>\n",
       "      <td>2</td>\n",
       "      <td>0</td>\n",
       "      <td>H</td>\n",
       "      <td>P Dowd</td>\n",
       "      <td>...</td>\n",
       "      <td>2.66</td>\n",
       "      <td>3.32</td>\n",
       "      <td>3.15</td>\n",
       "      <td>2.70</td>\n",
       "      <td>2.53</td>\n",
       "      <td>2.30</td>\n",
       "      <td>2.17</td>\n",
       "      <td>1.75</td>\n",
       "      <td>1.63</td>\n",
       "      <td>2006-2007</td>\n",
       "    </tr>\n",
       "    <tr>\n",
       "      <th>2</th>\n",
       "      <td>19/08/2006</td>\n",
       "      <td>Everton</td>\n",
       "      <td>Watford</td>\n",
       "      <td>2</td>\n",
       "      <td>1</td>\n",
       "      <td>H</td>\n",
       "      <td>1</td>\n",
       "      <td>0</td>\n",
       "      <td>H</td>\n",
       "      <td>P Walton</td>\n",
       "      <td>...</td>\n",
       "      <td>1.63</td>\n",
       "      <td>3.70</td>\n",
       "      <td>3.46</td>\n",
       "      <td>6.00</td>\n",
       "      <td>5.35</td>\n",
       "      <td>2.20</td>\n",
       "      <td>2.07</td>\n",
       "      <td>1.76</td>\n",
       "      <td>1.69</td>\n",
       "      <td>2006-2007</td>\n",
       "    </tr>\n",
       "    <tr>\n",
       "      <th>3</th>\n",
       "      <td>19/08/2006</td>\n",
       "      <td>Newcastle</td>\n",
       "      <td>Wigan</td>\n",
       "      <td>2</td>\n",
       "      <td>1</td>\n",
       "      <td>H</td>\n",
       "      <td>1</td>\n",
       "      <td>0</td>\n",
       "      <td>H</td>\n",
       "      <td>M Atkinson</td>\n",
       "      <td>...</td>\n",
       "      <td>1.71</td>\n",
       "      <td>3.55</td>\n",
       "      <td>3.39</td>\n",
       "      <td>5.25</td>\n",
       "      <td>4.72</td>\n",
       "      <td>2.25</td>\n",
       "      <td>2.12</td>\n",
       "      <td>1.75</td>\n",
       "      <td>1.66</td>\n",
       "      <td>2006-2007</td>\n",
       "    </tr>\n",
       "    <tr>\n",
       "      <th>4</th>\n",
       "      <td>19/08/2006</td>\n",
       "      <td>Portsmouth</td>\n",
       "      <td>Blackburn</td>\n",
       "      <td>3</td>\n",
       "      <td>0</td>\n",
       "      <td>H</td>\n",
       "      <td>1</td>\n",
       "      <td>0</td>\n",
       "      <td>H</td>\n",
       "      <td>A Wiley</td>\n",
       "      <td>...</td>\n",
       "      <td>2.37</td>\n",
       "      <td>3.33</td>\n",
       "      <td>3.20</td>\n",
       "      <td>3.20</td>\n",
       "      <td>2.83</td>\n",
       "      <td>2.26</td>\n",
       "      <td>2.15</td>\n",
       "      <td>1.69</td>\n",
       "      <td>1.64</td>\n",
       "      <td>2006-2007</td>\n",
       "    </tr>\n",
       "  </tbody>\n",
       "</table>\n",
       "<p>5 rows × 36 columns</p>\n",
       "</div>"
      ],
      "text/plain": [
       "         Date    HomeTeam     AwayTeam  FTHG  FTAG FTR  HTHG  HTAG HTR  \\\n",
       "0  19/08/2006     Arsenal  Aston Villa     1     1   D     0     0   D   \n",
       "1  19/08/2006      Bolton    Tottenham     2     0   H     2     0   H   \n",
       "2  19/08/2006     Everton      Watford     2     1   H     1     0   H   \n",
       "3  19/08/2006   Newcastle        Wigan     2     1   H     1     0   H   \n",
       "4  19/08/2006  Portsmouth    Blackburn     3     0   H     1     0   H   \n",
       "\n",
       "      Referee    ...      BbAvH  BbMxD  BbAvD  BbMxA  BbAvA  BbMx>2.5  \\\n",
       "0      G Poll    ...       1.27   5.50   4.82  13.25  10.72      1.83   \n",
       "1      P Dowd    ...       2.66   3.32   3.15   2.70   2.53      2.30   \n",
       "2    P Walton    ...       1.63   3.70   3.46   6.00   5.35      2.20   \n",
       "3  M Atkinson    ...       1.71   3.55   3.39   5.25   4.72      2.25   \n",
       "4     A Wiley    ...       2.37   3.33   3.20   3.20   2.83      2.26   \n",
       "\n",
       "   BbAv>2.5  BbMx<2.5  BbAv<2.5     season  \n",
       "0      1.75      2.12      2.01  2006-2007  \n",
       "1      2.17      1.75      1.63  2006-2007  \n",
       "2      2.07      1.76      1.69  2006-2007  \n",
       "3      2.12      1.75      1.66  2006-2007  \n",
       "4      2.15      1.69      1.64  2006-2007  \n",
       "\n",
       "[5 rows x 36 columns]"
      ]
     },
     "execution_count": 8,
     "metadata": {},
     "output_type": "execute_result"
    }
   ],
   "source": [
    "df.head()"
   ]
  },
  {
   "cell_type": "markdown",
   "metadata": {},
   "source": [
    "#### Data exploration"
   ]
  },
  {
   "cell_type": "markdown",
   "metadata": {},
   "source": [
    "Moyenne des différentes variables présentes dans la base finale:"
   ]
  },
  {
   "cell_type": "code",
   "execution_count": 9,
   "metadata": {},
   "outputs": [
    {
     "name": "stdout",
     "output_type": "stream",
     "text": [
      "Nombre moyen de buts pour l'équipe à domicile 1.5442583732057416\n",
      "Nombre moyen de buts  pour l'équipe à l'extérieur 1.1440191387559808\n"
     ]
    }
   ],
   "source": [
    "print(\"Nombre moyen de buts pour l'équipe à domicile\",df['FTHG'].mean())\n",
    "print(\"Nombre moyen de buts  pour l'équipe à l'extérieur\",df['FTAG'].mean())"
   ]
  },
  {
   "cell_type": "code",
   "execution_count": 10,
   "metadata": {},
   "outputs": [
    {
     "name": "stdout",
     "output_type": "stream",
     "text": [
      "Nombre moyen de tirs cadrés pour l'équipe à domicile 6.527033492822967\n",
      "Nombre moyen de tirs cadrés pour l'équipe à l'extérieur 5.089234449760766\n"
     ]
    }
   ],
   "source": [
    "print(\"Nombre moyen de tirs cadrés pour l'équipe à domicile\",df['HST'].mean())\n",
    "print(\"Nombre moyen de tirs cadrés pour l'équipe à l'extérieur\",df['AST'].mean())"
   ]
  },
  {
   "cell_type": "code",
   "execution_count": 11,
   "metadata": {},
   "outputs": [
    {
     "name": "stdout",
     "output_type": "stream",
     "text": [
      "Nombre moyen de fautes commises par l'équipe à domicile 11.044497607655503\n",
      "Nombre moyen de fautes commises par l'équipe à l'extérieur 11.594258373205742\n"
     ]
    }
   ],
   "source": [
    "print(\"Nombre moyen de fautes commises par l'équipe à domicile\",df['HF'].mean())\n",
    "print(\"Nombre moyen de fautes commises par l'équipe à l'extérieur\",df['AF'].mean())"
   ]
  },
  {
   "cell_type": "code",
   "execution_count": 12,
   "metadata": {},
   "outputs": [
    {
     "name": "stdout",
     "output_type": "stream",
     "text": [
      "Nombre moyen de corners pour l'équipe à domicile 6.154545454545454\n",
      "Nombre moyen de corners pour l'équipe à l'extérieur 4.8382775119617225\n"
     ]
    }
   ],
   "source": [
    "print(\"Nombre moyen de corners pour l'équipe à domicile\",df['HC'].mean())\n",
    "print(\"Nombre moyen de corners pour l'équipe à l'extérieur\",df['AC'].mean())"
   ]
  },
  {
   "cell_type": "code",
   "execution_count": 13,
   "metadata": {},
   "outputs": [
    {
     "name": "stdout",
     "output_type": "stream",
     "text": [
      "Nombre moyen de cartons jaunes pour l'équipe à domicile 1.4430622009569378\n",
      "Nombre moyen de cartons jaunes pour l'équipe à l'extérieur 1.813157894736842\n"
     ]
    }
   ],
   "source": [
    "print(\"Nombre moyen de cartons jaunes pour l'équipe à domicile\",df['HY'].mean())\n",
    "print(\"Nombre moyen de cartons jaunes pour l'équipe à l'extérieur\",df['AY'].mean())"
   ]
  },
  {
   "cell_type": "code",
   "execution_count": 14,
   "metadata": {},
   "outputs": [
    {
     "name": "stdout",
     "output_type": "stream",
     "text": [
      "Nombre moyen de cartons rouges pour l'équipe à domicile 0.06339712918660287\n",
      "Nombre moyen de cartons rouges pour l'équipe à l'extérieur 0.09162679425837321\n"
     ]
    }
   ],
   "source": [
    "print(\"Nombre moyen de cartons rouges pour l'équipe à domicile\",df['HR'].mean())\n",
    "print(\"Nombre moyen de cartons rouges pour l'équipe à l'extérieur\",df['AR'].mean())"
   ]
  },
  {
   "cell_type": "code",
   "execution_count": 15,
   "metadata": {},
   "outputs": [
    {
     "name": "stdout",
     "output_type": "stream",
     "text": [
      "cote moyenne à domicile 2.7196148325358656\n",
      "cote moyenne à l'exétieur 4.906976076555013\n",
      "cote moyenne du match nul 3.933976076554991\n"
     ]
    }
   ],
   "source": [
    "print(\"cote moyenne à domicile\",df['B365H'].mean())\n",
    "print(\"cote moyenne à l'exétieur\",df['B365A'].mean())\n",
    "print(\"cote moyenne du match nul\",df['B365D'].mean())"
   ]
  },
  {
   "cell_type": "markdown",
   "metadata": {},
   "source": [
    "Création de la variable de comparaison utile afin savoir si le résultat à la mi-temps (HTR: half-time result) est le même qu'à la fin du match (FTR: full-time result)"
   ]
  },
  {
   "cell_type": "code",
   "execution_count": 16,
   "metadata": {},
   "outputs": [],
   "source": [
    "compar = np.array(df['FTR'] == df['HTR'])\n",
    "df['compar'] = compar.astype('str')"
   ]
  },
  {
   "cell_type": "code",
   "execution_count": 17,
   "metadata": {},
   "outputs": [
    {
     "data": {
      "text/plain": [
       "<matplotlib.axes._subplots.AxesSubplot at 0x1753a4aedd8>"
      ]
     },
     "execution_count": 17,
     "metadata": {},
     "output_type": "execute_result"
    },
    {
     "data": {
      "image/png": "[encoded data removed]",
      "text/plain": [
       "<Figure size 432x288 with 1 Axes>"
      ]
     },
     "metadata": {},
     "output_type": "display_data"
    }
   ],
   "source": [
    "df['compar'].value_counts().plot(kind='pie', title = 'Resultat mi-temps = Resultat Final ?', autopct='%.2f')"
   ]
  },
  {
   "cell_type": "markdown",
   "metadata": {},
   "source": [
    "Pour 6 matchs sur 10, le résultat à la mi-temps est confirmé à la fin du temps règlemantaire. Intéressons-nous plus précisement au résultat final dans les 3 cas suivants à la mi-temps: lorsque l'équipe à domicile est mène, lorsque l'équipe jouant à l'extérieur mène et lorsque qu'il y a égalité entre les deux équipes."
   ]
  },
  {
   "cell_type": "code",
   "execution_count": 18,
   "metadata": {},
   "outputs": [],
   "source": [
    "half_home = df.loc[df['HTR'] == 'H']"
   ]
  },
  {
   "cell_type": "code",
   "execution_count": 19,
   "metadata": {},
   "outputs": [
    {
     "data": {
      "text/plain": [
       "<matplotlib.axes._subplots.AxesSubplot at 0x1753abaee10>"
      ]
     },
     "execution_count": 19,
     "metadata": {},
     "output_type": "execute_result"
    },
    {
     "data": {
      "image/png": "[encoded data removed]",
      "text/plain": [
       "<Figure size 432x288 with 1 Axes>"
      ]
     },
     "metadata": {},
     "output_type": "display_data"
    }
   ],
   "source": [
    "half_home['FTR'].value_counts().plot(kind='pie', title = \"Résultat final si l'équipe à domicile est gagnante à la mi-temps\", autopct='%.2f')"
   ]
  },
  {
   "cell_type": "markdown",
   "metadata": {},
   "source": [
    "Nous observons que dans plus de 80% des matchs les équipes qui ont l'avantage à la mi-temps confirment cet avantage en gagnant le match à la fin du temps règlementaire."
   ]
  },
  {
   "cell_type": "code",
   "execution_count": 20,
   "metadata": {},
   "outputs": [
    {
     "data": {
      "text/plain": [
       "<matplotlib.axes._subplots.AxesSubplot at 0x1752ee200f0>"
      ]
     },
     "execution_count": 20,
     "metadata": {},
     "output_type": "execute_result"
    },
    {
     "data": {
      "image/png": "[encoded data removed]",
      "text/plain": [
       "<Figure size 432x288 with 1 Axes>"
      ]
     },
     "metadata": {},
     "output_type": "display_data"
    }
   ],
   "source": [
    "half_away = df.loc[df['HTR'] == 'A']\n",
    "half_away['FTR'].value_counts().plot(kind='pie',title = \"Résultat final si l'équipe à l'extérieur est gagnante à la mi-temps\", autopct='%.2f')"
   ]
  },
  {
   "cell_type": "markdown",
   "metadata": {},
   "source": [
    "Même si une très grande proportion des matchs menés à la mi-temps par l'équipe extérieure est gagnée par cette même équipe, pour 30% des matchs, ce n'est pas le cas et l'équipe à domicile peut revenir au match nul ou renverser le match et le gagner."
   ]
  },
  {
   "cell_type": "code",
   "execution_count": 21,
   "metadata": {},
   "outputs": [
    {
     "data": {
      "text/plain": [
       "<matplotlib.axes._subplots.AxesSubplot at 0x1753ac470f0>"
      ]
     },
     "execution_count": 21,
     "metadata": {},
     "output_type": "execute_result"
    },
    {
     "data": {
      "image/png": "[encoded data removed]",
      "text/plain": [
       "<Figure size 432x288 with 1 Axes>"
      ]
     },
     "metadata": {},
     "output_type": "display_data"
    }
   ],
   "source": [
    "half_away = df.loc[df['HTR'] == 'D']\n",
    "half_away['FTR'].value_counts().plot(kind='pie',title = \"Résultat final si match nul à la mi-temps\", autopct='%.2f')"
   ]
  },
  {
   "cell_type": "markdown",
   "metadata": {},
   "source": [
    "Ici, il est intéressant de voir qu'à la mi-temps rien est joué, même si d'après les statistiques, l'issue du match semble moins favorable à la victoire de l'équipe à l'extérieur."
   ]
  },
  {
   "cell_type": "markdown",
   "metadata": {},
   "source": [
    "Création de la variable dichotomique correspondant la victoire de l'équipe à domicile, la victoire de l'équipe jouant à l'extérieur ou au match nul"
   ]
  },
  {
   "cell_type": "code",
   "execution_count": 22,
   "metadata": {},
   "outputs": [],
   "source": [
    "df['Home_Win'] = np.where(df['FTR'] == 'H',1,0)\n",
    "df['Away_Win'] = np.where(df['FTR'] == 'A',1,0)\n",
    "df['Draw'] = np.where(df['FTR'] == 'D',1,0)"
   ]
  },
  {
   "cell_type": "code",
   "execution_count": 23,
   "metadata": {},
   "outputs": [
    {
     "data": {
      "text/plain": [
       "<matplotlib.axes._subplots.AxesSubplot at 0x1753ac654a8>"
      ]
     },
     "execution_count": 23,
     "metadata": {},
     "output_type": "execute_result"
    },
    {
     "data": {
      "image/png": "[encoded data removed]",
      "text/plain": [
       "<Figure size 1008x576 with 1 Axes>"
      ]
     },
     "metadata": {},
     "output_type": "display_data"
    }
   ],
   "source": [
    "df.groupby(['FTR'])['season'].value_counts().unstack(0).plot.bar(stacked=True,title=\"Type de Résultat selon les saisons\", figsize=(14,8))"
   ]
  },
  {
   "cell_type": "code",
   "execution_count": 24,
   "metadata": {},
   "outputs": [
    {
     "data": {
      "text/plain": [
       "<matplotlib.axes._subplots.AxesSubplot at 0x1753ac36748>"
      ]
     },
     "execution_count": 24,
     "metadata": {},
     "output_type": "execute_result"
    },
    {
     "data": {
      "image/png": "[encoded data removed]",
      "text/plain": [
       "<Figure size 1008x576 with 1 Axes>"
      ]
     },
     "metadata": {},
     "output_type": "display_data"
    }
   ],
   "source": [
    "df.groupby(['FTR'])['HTR'].value_counts().unstack(0).plot.bar(stacked=True,title=\"FTR = f(HTR)\", figsize=(14,8))"
   ]
  },
  {
   "cell_type": "code",
   "execution_count": 25,
   "metadata": {},
   "outputs": [
    {
     "data": {
      "text/plain": [
       "<matplotlib.axes._subplots.AxesSubplot at 0x1753ad40d68>"
      ]
     },
     "execution_count": 25,
     "metadata": {},
     "output_type": "execute_result"
    },
    {
     "data": {
      "image/png": "[encoded data removed]",
      "text/plain": [
       "<Figure size 1008x576 with 1 Axes>"
      ]
     },
     "metadata": {},
     "output_type": "display_data"
    }
   ],
   "source": [
    "df.groupby(['FTR'])['AS'].value_counts().unstack(0).plot.bar(stacked=True,title=\"FTR = f(home shoots)\", figsize=(14,8))"
   ]
  },
  {
   "cell_type": "code",
   "execution_count": 26,
   "metadata": {},
   "outputs": [
    {
     "data": {
      "text/plain": [
       "<matplotlib.axes._subplots.AxesSubplot at 0x1753ad88dd8>"
      ]
     },
     "execution_count": 26,
     "metadata": {},
     "output_type": "execute_result"
    },
    {
     "data": {
      "image/png": "[encoded data removed]",
      "text/plain": [
       "<Figure size 1008x576 with 1 Axes>"
      ]
     },
     "metadata": {},
     "output_type": "display_data"
    }
   ],
   "source": [
    "df.groupby(['FTR'])['FTHG'].value_counts().unstack(0).plot.bar(stacked=True,title=\"FTR = f(home goals)\", figsize=(14,8))"
   ]
  },
  {
   "cell_type": "code",
   "execution_count": 27,
   "metadata": {},
   "outputs": [
    {
     "data": {
      "text/plain": [
       "<matplotlib.axes._subplots.AxesSubplot at 0x1753acb6be0>"
      ]
     },
     "execution_count": 27,
     "metadata": {},
     "output_type": "execute_result"
    },
    {
     "data": {
      "image/png": "[encoded data removed]",
      "text/plain": [
       "<Figure size 1008x576 with 1 Axes>"
      ]
     },
     "metadata": {},
     "output_type": "display_data"
    }
   ],
   "source": [
    "df.groupby(['FTR'])['HTHG'].value_counts().unstack(0).plot.bar(stacked=True,title=\"FTR = f(home goals)\", figsize=(14,8))"
   ]
  },
  {
   "cell_type": "markdown",
   "metadata": {},
   "source": [
    "Manipulation de tables afin d'obtenir les données générales des matchs sur toutes les saisons en une table"
   ]
  },
  {
   "cell_type": "code",
   "execution_count": 28,
   "metadata": {},
   "outputs": [],
   "source": [
    "sum_home = df['HS'].groupby([df['season'], \n",
    "                             df['HomeTeam']]).sum().reset_index()"
   ]
  },
  {
   "cell_type": "code",
   "execution_count": 29,
   "metadata": {},
   "outputs": [],
   "source": [
    "sum_away = df['AS'].groupby([df['season'], \n",
    "                             df['AwayTeam']]).sum().reset_index()"
   ]
  },
  {
   "cell_type": "code",
   "execution_count": 30,
   "metadata": {},
   "outputs": [],
   "source": [
    "sum_home = pd.merge(sum_home,\n",
    "                    df['Home_Win'].groupby([df['season'], \n",
    "                                                     df['HomeTeam']]).sum().reset_index(),\n",
    "                    on =['HomeTeam','season'])"
   ]
  },
  {
   "cell_type": "code",
   "execution_count": 31,
   "metadata": {},
   "outputs": [],
   "source": [
    "sum_away = pd.merge(sum_away,\n",
    "                    df['Away_Win'].groupby([df['season'], \n",
    "                                            df['AwayTeam']]).sum().reset_index(),\n",
    "                    on =['AwayTeam','season'])"
   ]
  },
  {
   "cell_type": "code",
   "execution_count": 32,
   "metadata": {},
   "outputs": [],
   "source": [
    "sum_home = pd.merge(sum_home,\n",
    "                    df['Draw'].groupby([df['season'], \n",
    "                                        df['HomeTeam']]).sum().reset_index(),\n",
    "                    on =['HomeTeam','season'])"
   ]
  },
  {
   "cell_type": "code",
   "execution_count": 33,
   "metadata": {},
   "outputs": [],
   "source": [
    "sum_away = pd.merge(sum_away,\n",
    "                    df['Draw'].groupby([df['season'], \n",
    "                                        df['AwayTeam']]).sum().reset_index(),\n",
    "                    on =['AwayTeam','season'])"
   ]
  },
  {
   "cell_type": "code",
   "execution_count": 34,
   "metadata": {},
   "outputs": [],
   "source": [
    "sum_home = pd.merge(sum_home,df['FTHG'].groupby([df['season'], \n",
    "                                                 df['HomeTeam']]).sum().reset_index(),\n",
    "                    on =['HomeTeam','season'])"
   ]
  },
  {
   "cell_type": "code",
   "execution_count": 35,
   "metadata": {},
   "outputs": [],
   "source": [
    "sum_away = pd.merge(sum_away,\n",
    "                    df['FTAG'].groupby([df['season'], \n",
    "                                        df['AwayTeam']]).sum().reset_index(),\n",
    "                    on =['AwayTeam','season'])"
   ]
  },
  {
   "cell_type": "code",
   "execution_count": 36,
   "metadata": {},
   "outputs": [],
   "source": [
    "sum_home = pd.merge(sum_home,\n",
    "                    df['HST'].groupby([df['season'], \n",
    "                                       df['HomeTeam']]).sum().reset_index(),\n",
    "                    on =['HomeTeam','season'])"
   ]
  },
  {
   "cell_type": "code",
   "execution_count": 37,
   "metadata": {},
   "outputs": [],
   "source": [
    "sum_away = pd.merge(sum_away,\n",
    "                    df['AST'].groupby([df['season'], \n",
    "                                       df['AwayTeam']]).sum().reset_index(),\n",
    "                    on =['AwayTeam','season'])"
   ]
  },
  {
   "cell_type": "code",
   "execution_count": 38,
   "metadata": {},
   "outputs": [],
   "source": [
    "sum_home = pd.merge(sum_home,\n",
    "                    df['HF'].groupby([df['season'], \n",
    "                                      df['HomeTeam']]).sum().reset_index(),\n",
    "                    on =['HomeTeam','season'])"
   ]
  },
  {
   "cell_type": "code",
   "execution_count": 39,
   "metadata": {},
   "outputs": [],
   "source": [
    "sum_away = pd.merge(sum_away,\n",
    "                    df['AF'].groupby([df['season'], \n",
    "                                      df['AwayTeam']]).sum().reset_index(),\n",
    "                    on =['AwayTeam','season'])"
   ]
  },
  {
   "cell_type": "code",
   "execution_count": 40,
   "metadata": {},
   "outputs": [],
   "source": [
    "sum_home = pd.merge(sum_home,\n",
    "                    df['HC'].groupby([df['season'], \n",
    "                                      df['HomeTeam']]).sum().reset_index(),\n",
    "                    on =['HomeTeam','season'])"
   ]
  },
  {
   "cell_type": "code",
   "execution_count": 41,
   "metadata": {},
   "outputs": [],
   "source": [
    "sum_away = pd.merge(sum_away,\n",
    "                    df['AC'].groupby([df['season'], \n",
    "                                      df['AwayTeam']]).sum().reset_index(),\n",
    "                    on =['AwayTeam','season'])"
   ]
  },
  {
   "cell_type": "code",
   "execution_count": 42,
   "metadata": {},
   "outputs": [],
   "source": [
    "sum_home = pd.merge(sum_home,\n",
    "                    df['HY'].groupby([df['season'], \n",
    "                                      df['HomeTeam']]).sum().reset_index(),\n",
    "                    on =['HomeTeam','season'])"
   ]
  },
  {
   "cell_type": "code",
   "execution_count": 43,
   "metadata": {},
   "outputs": [],
   "source": [
    "sum_away = pd.merge(sum_away,\n",
    "                    df['AY'].groupby([df['season'], \n",
    "                                               df['AwayTeam']]).sum().reset_index(),\n",
    "                    on =['AwayTeam','season'])"
   ]
  },
  {
   "cell_type": "code",
   "execution_count": 44,
   "metadata": {},
   "outputs": [],
   "source": [
    "sum_home = pd.merge(sum_home,\n",
    "                    df['HR'].groupby([df['season'], \n",
    "                                      df['HomeTeam']]).sum().reset_index(),\n",
    "                    on =['HomeTeam','season'])"
   ]
  },
  {
   "cell_type": "code",
   "execution_count": 45,
   "metadata": {},
   "outputs": [],
   "source": [
    "sum_away = pd.merge(sum_away,\n",
    "                    df['AR'].groupby([df['season'], \n",
    "                                      df['AwayTeam']]).sum().reset_index(),\n",
    "                    on =['AwayTeam','season'])"
   ]
  },
  {
   "cell_type": "code",
   "execution_count": 46,
   "metadata": {},
   "outputs": [],
   "source": [
    "sum_home = pd.merge(sum_home,\n",
    "                    df['B365H'].groupby([df['season'], \n",
    "                                         df['HomeTeam']]).mean().reset_index(),\n",
    "                    on =['HomeTeam','season'])"
   ]
  },
  {
   "cell_type": "code",
   "execution_count": 47,
   "metadata": {},
   "outputs": [],
   "source": [
    "sum_away = pd.merge(sum_away,\n",
    "                    df['B365A'].groupby([df['season'], \n",
    "                                         df['AwayTeam']]).mean().reset_index(),\n",
    "                    on =['AwayTeam','season'])"
   ]
  },
  {
   "cell_type": "code",
   "execution_count": 48,
   "metadata": {},
   "outputs": [],
   "source": [
    "sum_home = pd.merge(sum_home,\n",
    "                    df['HTHG'].groupby([df['season'], \n",
    "                                        df['HomeTeam']]).mean().reset_index(),\n",
    "                    on =['HomeTeam','season'])"
   ]
  },
  {
   "cell_type": "code",
   "execution_count": 49,
   "metadata": {},
   "outputs": [],
   "source": [
    "sum_away = pd.merge(sum_away,\n",
    "                    df['HTAG'].groupby([df['season'], \n",
    "                                        df['AwayTeam']]).mean().reset_index(),\n",
    "                    on =['AwayTeam','season'])"
   ]
  },
  {
   "cell_type": "code",
   "execution_count": 50,
   "metadata": {},
   "outputs": [],
   "source": [
    "sum_home = sum_home.rename(columns={'HomeTeam': 'team', 'B365H':'home_odd', 'Draw': 'Draw_at_home'})\n",
    "sum_away = sum_away.rename(columns={'AwayTeam': 'team', 'B365A':'away_odd', 'Draw': 'Draw_away'})"
   ]
  },
  {
   "cell_type": "code",
   "execution_count": 51,
   "metadata": {},
   "outputs": [],
   "source": [
    "sum_merge = pd.merge(sum_home,\n",
    "                     sum_away, on = ['team','season'])"
   ]
  },
  {
   "cell_type": "code",
   "execution_count": 52,
   "metadata": {},
   "outputs": [
    {
     "data": {
      "text/html": [
       "<div>\n",
       "<style scoped>\n",
       "    .dataframe tbody tr th:only-of-type {\n",
       "        vertical-align: middle;\n",
       "    }\n",
       "\n",
       "    .dataframe tbody tr th {\n",
       "        vertical-align: top;\n",
       "    }\n",
       "\n",
       "    .dataframe thead th {\n",
       "        text-align: right;\n",
       "    }\n",
       "</style>\n",
       "<table border=\"1\" class=\"dataframe\">\n",
       "  <thead>\n",
       "    <tr style=\"text-align: right;\">\n",
       "      <th></th>\n",
       "      <th>season</th>\n",
       "      <th>team</th>\n",
       "      <th>HS</th>\n",
       "      <th>Home_Win</th>\n",
       "      <th>Draw_at_home</th>\n",
       "      <th>FTHG</th>\n",
       "      <th>HST</th>\n",
       "      <th>HF</th>\n",
       "      <th>HC</th>\n",
       "      <th>HY</th>\n",
       "      <th>...</th>\n",
       "      <th>Away_Win</th>\n",
       "      <th>Draw_away</th>\n",
       "      <th>FTAG</th>\n",
       "      <th>AST</th>\n",
       "      <th>AF</th>\n",
       "      <th>AC</th>\n",
       "      <th>AY</th>\n",
       "      <th>AR</th>\n",
       "      <th>away_odd</th>\n",
       "      <th>HTAG</th>\n",
       "    </tr>\n",
       "  </thead>\n",
       "  <tbody>\n",
       "    <tr>\n",
       "      <th>0</th>\n",
       "      <td>2006-2007</td>\n",
       "      <td>Arsenal</td>\n",
       "      <td>299</td>\n",
       "      <td>12</td>\n",
       "      <td>6</td>\n",
       "      <td>43</td>\n",
       "      <td>171</td>\n",
       "      <td>190</td>\n",
       "      <td>169</td>\n",
       "      <td>27</td>\n",
       "      <td>...</td>\n",
       "      <td>7</td>\n",
       "      <td>5</td>\n",
       "      <td>20</td>\n",
       "      <td>105</td>\n",
       "      <td>178</td>\n",
       "      <td>109</td>\n",
       "      <td>32</td>\n",
       "      <td>3</td>\n",
       "      <td>2.194737</td>\n",
       "      <td>0.421053</td>\n",
       "    </tr>\n",
       "    <tr>\n",
       "      <th>1</th>\n",
       "      <td>2006-2007</td>\n",
       "      <td>Aston Villa</td>\n",
       "      <td>222</td>\n",
       "      <td>7</td>\n",
       "      <td>8</td>\n",
       "      <td>20</td>\n",
       "      <td>109</td>\n",
       "      <td>241</td>\n",
       "      <td>117</td>\n",
       "      <td>22</td>\n",
       "      <td>...</td>\n",
       "      <td>4</td>\n",
       "      <td>9</td>\n",
       "      <td>23</td>\n",
       "      <td>102</td>\n",
       "      <td>259</td>\n",
       "      <td>96</td>\n",
       "      <td>26</td>\n",
       "      <td>1</td>\n",
       "      <td>4.680000</td>\n",
       "      <td>0.631579</td>\n",
       "    </tr>\n",
       "    <tr>\n",
       "      <th>2</th>\n",
       "      <td>2006-2007</td>\n",
       "      <td>Blackburn</td>\n",
       "      <td>234</td>\n",
       "      <td>9</td>\n",
       "      <td>3</td>\n",
       "      <td>31</td>\n",
       "      <td>118</td>\n",
       "      <td>280</td>\n",
       "      <td>110</td>\n",
       "      <td>41</td>\n",
       "      <td>...</td>\n",
       "      <td>6</td>\n",
       "      <td>4</td>\n",
       "      <td>21</td>\n",
       "      <td>90</td>\n",
       "      <td>247</td>\n",
       "      <td>93</td>\n",
       "      <td>40</td>\n",
       "      <td>3</td>\n",
       "      <td>4.431579</td>\n",
       "      <td>0.473684</td>\n",
       "    </tr>\n",
       "    <tr>\n",
       "      <th>3</th>\n",
       "      <td>2006-2007</td>\n",
       "      <td>Bolton</td>\n",
       "      <td>207</td>\n",
       "      <td>9</td>\n",
       "      <td>5</td>\n",
       "      <td>26</td>\n",
       "      <td>115</td>\n",
       "      <td>248</td>\n",
       "      <td>125</td>\n",
       "      <td>29</td>\n",
       "      <td>...</td>\n",
       "      <td>7</td>\n",
       "      <td>3</td>\n",
       "      <td>21</td>\n",
       "      <td>69</td>\n",
       "      <td>273</td>\n",
       "      <td>90</td>\n",
       "      <td>53</td>\n",
       "      <td>4</td>\n",
       "      <td>3.880000</td>\n",
       "      <td>0.473684</td>\n",
       "    </tr>\n",
       "    <tr>\n",
       "      <th>4</th>\n",
       "      <td>2006-2007</td>\n",
       "      <td>Charlton</td>\n",
       "      <td>216</td>\n",
       "      <td>7</td>\n",
       "      <td>5</td>\n",
       "      <td>19</td>\n",
       "      <td>107</td>\n",
       "      <td>224</td>\n",
       "      <td>108</td>\n",
       "      <td>29</td>\n",
       "      <td>...</td>\n",
       "      <td>1</td>\n",
       "      <td>5</td>\n",
       "      <td>15</td>\n",
       "      <td>61</td>\n",
       "      <td>204</td>\n",
       "      <td>72</td>\n",
       "      <td>29</td>\n",
       "      <td>3</td>\n",
       "      <td>6.391053</td>\n",
       "      <td>0.263158</td>\n",
       "    </tr>\n",
       "  </tbody>\n",
       "</table>\n",
       "<p>5 rows × 24 columns</p>\n",
       "</div>"
      ],
      "text/plain": [
       "      season         team   HS  Home_Win  Draw_at_home  FTHG  HST   HF   HC  \\\n",
       "0  2006-2007      Arsenal  299        12             6    43  171  190  169   \n",
       "1  2006-2007  Aston Villa  222         7             8    20  109  241  117   \n",
       "2  2006-2007    Blackburn  234         9             3    31  118  280  110   \n",
       "3  2006-2007       Bolton  207         9             5    26  115  248  125   \n",
       "4  2006-2007     Charlton  216         7             5    19  107  224  108   \n",
       "\n",
       "   HY    ...     Away_Win  Draw_away  FTAG  AST   AF   AC  AY  AR  away_odd  \\\n",
       "0  27    ...            7          5    20  105  178  109  32   3  2.194737   \n",
       "1  22    ...            4          9    23  102  259   96  26   1  4.680000   \n",
       "2  41    ...            6          4    21   90  247   93  40   3  4.431579   \n",
       "3  29    ...            7          3    21   69  273   90  53   4  3.880000   \n",
       "4  29    ...            1          5    15   61  204   72  29   3  6.391053   \n",
       "\n",
       "       HTAG  \n",
       "0  0.421053  \n",
       "1  0.631579  \n",
       "2  0.473684  \n",
       "3  0.473684  \n",
       "4  0.263158  \n",
       "\n",
       "[5 rows x 24 columns]"
      ]
     },
     "execution_count": 52,
     "metadata": {},
     "output_type": "execute_result"
    }
   ],
   "source": [
    "sum_merge.head()"
   ]
  },
  {
   "cell_type": "code",
   "execution_count": 53,
   "metadata": {},
   "outputs": [],
   "source": [
    "sum_stat_merge = pd.merge(stats,sum_merge, \n",
    "                          on = ['team','season'])"
   ]
  },
  {
   "cell_type": "code",
   "execution_count": 54,
   "metadata": {},
   "outputs": [
    {
     "name": "stdout",
     "output_type": "stream",
     "text": [
      "<class 'pandas.core.frame.DataFrame'>\n",
      "Int64Index: 220 entries, 0 to 219\n",
      "Data columns (total 65 columns):\n",
      "season                  220 non-null object\n",
      "team                    220 non-null object\n",
      "classement              220 non-null int64\n",
      "wins                    220 non-null float64\n",
      "losses                  220 non-null float64\n",
      "goals                   220 non-null float64\n",
      "total_yel_card          220 non-null float64\n",
      "total_red_card          220 non-null float64\n",
      "total_scoring_att       220 non-null float64\n",
      "ontarget_scoring_att    220 non-null float64\n",
      "hit_woodwork            220 non-null float64\n",
      "att_hd_goal             220 non-null float64\n",
      "att_pen_goal            220 non-null float64\n",
      "att_freekick_goal       220 non-null float64\n",
      "att_ibox_goal           220 non-null float64\n",
      "att_obox_goal           220 non-null float64\n",
      "goal_fastbreak          220 non-null float64\n",
      "total_offside           220 non-null float64\n",
      "clean_sheet             220 non-null float64\n",
      "goals_conceded          220 non-null float64\n",
      "saves                   200 non-null float64\n",
      "outfielder_block        220 non-null float64\n",
      "interception            220 non-null float64\n",
      "total_tackle            220 non-null float64\n",
      "last_man_tackle         220 non-null float64\n",
      "total_clearance         220 non-null float64\n",
      "head_clearance          200 non-null float64\n",
      "own_goals               220 non-null float64\n",
      "penalty_conceded        220 non-null float64\n",
      "pen_goals_conceded      220 non-null float64\n",
      "total_pass              220 non-null float64\n",
      "total_through_ball      200 non-null float64\n",
      "total_long_balls        220 non-null float64\n",
      "backward_pass           140 non-null float64\n",
      "total_cross             220 non-null float64\n",
      "corner_taken            220 non-null float64\n",
      "touches                 220 non-null float64\n",
      "big_chance_missed       140 non-null float64\n",
      "clearance_off_line      220 non-null float64\n",
      "dispossessed            200 non-null float64\n",
      "penalty_save            220 non-null float64\n",
      "total_high_claim        220 non-null float64\n",
      "punches                 220 non-null float64\n",
      "HS                      220 non-null int64\n",
      "Home_Win                220 non-null int32\n",
      "Draw_at_home            220 non-null int32\n",
      "FTHG                    220 non-null int64\n",
      "HST                     220 non-null int64\n",
      "HF                      220 non-null int64\n",
      "HC                      220 non-null int64\n",
      "HY                      220 non-null int64\n",
      "HR                      220 non-null int64\n",
      "home_odd                220 non-null float64\n",
      "HTHG                    220 non-null float64\n",
      "AS                      220 non-null int64\n",
      "Away_Win                220 non-null int32\n",
      "Draw_away               220 non-null int32\n",
      "FTAG                    220 non-null int64\n",
      "AST                     220 non-null int64\n",
      "AF                      220 non-null int64\n",
      "AC                      220 non-null int64\n",
      "AY                      220 non-null int64\n",
      "AR                      220 non-null int64\n",
      "away_odd                220 non-null float64\n",
      "HTAG                    220 non-null float64\n",
      "dtypes: float64(44), int32(4), int64(15), object(2)\n",
      "memory usage: 110.0+ KB\n"
     ]
    }
   ],
   "source": [
    "sum_stat_merge.info()"
   ]
  },
  {
   "cell_type": "code",
   "execution_count": 55,
   "metadata": {},
   "outputs": [
    {
     "data": {
      "text/html": [
       "<div>\n",
       "<style scoped>\n",
       "    .dataframe tbody tr th:only-of-type {\n",
       "        vertical-align: middle;\n",
       "    }\n",
       "\n",
       "    .dataframe tbody tr th {\n",
       "        vertical-align: top;\n",
       "    }\n",
       "\n",
       "    .dataframe thead th {\n",
       "        text-align: right;\n",
       "    }\n",
       "</style>\n",
       "<table border=\"1\" class=\"dataframe\">\n",
       "  <thead>\n",
       "    <tr style=\"text-align: right;\">\n",
       "      <th></th>\n",
       "      <th>season</th>\n",
       "      <th>team</th>\n",
       "      <th>classement</th>\n",
       "      <th>wins</th>\n",
       "      <th>losses</th>\n",
       "      <th>goals</th>\n",
       "      <th>total_yel_card</th>\n",
       "      <th>total_red_card</th>\n",
       "      <th>total_scoring_att</th>\n",
       "      <th>ontarget_scoring_att</th>\n",
       "      <th>...</th>\n",
       "      <th>Away_Win</th>\n",
       "      <th>Draw_away</th>\n",
       "      <th>FTAG</th>\n",
       "      <th>AST</th>\n",
       "      <th>AF</th>\n",
       "      <th>AC</th>\n",
       "      <th>AY</th>\n",
       "      <th>AR</th>\n",
       "      <th>away_odd</th>\n",
       "      <th>HTAG</th>\n",
       "    </tr>\n",
       "  </thead>\n",
       "  <tbody>\n",
       "    <tr>\n",
       "      <th>0</th>\n",
       "      <td>2006-2007</td>\n",
       "      <td>Arsenal</td>\n",
       "      <td>4</td>\n",
       "      <td>19.0</td>\n",
       "      <td>8.0</td>\n",
       "      <td>63.0</td>\n",
       "      <td>59.0</td>\n",
       "      <td>3.0</td>\n",
       "      <td>638.0</td>\n",
       "      <td>226.0</td>\n",
       "      <td>...</td>\n",
       "      <td>7</td>\n",
       "      <td>5</td>\n",
       "      <td>20</td>\n",
       "      <td>105</td>\n",
       "      <td>178</td>\n",
       "      <td>109</td>\n",
       "      <td>32</td>\n",
       "      <td>3</td>\n",
       "      <td>2.194737</td>\n",
       "      <td>0.421053</td>\n",
       "    </tr>\n",
       "    <tr>\n",
       "      <th>1</th>\n",
       "      <td>2007-2008</td>\n",
       "      <td>Arsenal</td>\n",
       "      <td>3</td>\n",
       "      <td>24.0</td>\n",
       "      <td>3.0</td>\n",
       "      <td>74.0</td>\n",
       "      <td>55.0</td>\n",
       "      <td>3.0</td>\n",
       "      <td>627.0</td>\n",
       "      <td>208.0</td>\n",
       "      <td>...</td>\n",
       "      <td>10</td>\n",
       "      <td>6</td>\n",
       "      <td>37</td>\n",
       "      <td>139</td>\n",
       "      <td>208</td>\n",
       "      <td>97</td>\n",
       "      <td>39</td>\n",
       "      <td>2</td>\n",
       "      <td>2.058947</td>\n",
       "      <td>0.684211</td>\n",
       "    </tr>\n",
       "    <tr>\n",
       "      <th>2</th>\n",
       "      <td>2008-2009</td>\n",
       "      <td>Arsenal</td>\n",
       "      <td>4</td>\n",
       "      <td>20.0</td>\n",
       "      <td>6.0</td>\n",
       "      <td>68.0</td>\n",
       "      <td>58.0</td>\n",
       "      <td>3.0</td>\n",
       "      <td>662.0</td>\n",
       "      <td>220.0</td>\n",
       "      <td>...</td>\n",
       "      <td>9</td>\n",
       "      <td>7</td>\n",
       "      <td>37</td>\n",
       "      <td>140</td>\n",
       "      <td>219</td>\n",
       "      <td>113</td>\n",
       "      <td>35</td>\n",
       "      <td>2</td>\n",
       "      <td>2.437895</td>\n",
       "      <td>0.684211</td>\n",
       "    </tr>\n",
       "    <tr>\n",
       "      <th>3</th>\n",
       "      <td>2009-2010</td>\n",
       "      <td>Arsenal</td>\n",
       "      <td>3</td>\n",
       "      <td>23.0</td>\n",
       "      <td>9.0</td>\n",
       "      <td>83.0</td>\n",
       "      <td>56.0</td>\n",
       "      <td>1.0</td>\n",
       "      <td>660.0</td>\n",
       "      <td>233.0</td>\n",
       "      <td>...</td>\n",
       "      <td>8</td>\n",
       "      <td>4</td>\n",
       "      <td>35</td>\n",
       "      <td>142</td>\n",
       "      <td>226</td>\n",
       "      <td>126</td>\n",
       "      <td>32</td>\n",
       "      <td>0</td>\n",
       "      <td>2.083158</td>\n",
       "      <td>0.894737</td>\n",
       "    </tr>\n",
       "    <tr>\n",
       "      <th>4</th>\n",
       "      <td>2010-2011</td>\n",
       "      <td>Arsenal</td>\n",
       "      <td>4</td>\n",
       "      <td>19.0</td>\n",
       "      <td>8.0</td>\n",
       "      <td>72.0</td>\n",
       "      <td>65.0</td>\n",
       "      <td>6.0</td>\n",
       "      <td>654.0</td>\n",
       "      <td>238.0</td>\n",
       "      <td>...</td>\n",
       "      <td>8</td>\n",
       "      <td>7</td>\n",
       "      <td>39</td>\n",
       "      <td>156</td>\n",
       "      <td>208</td>\n",
       "      <td>114</td>\n",
       "      <td>37</td>\n",
       "      <td>3</td>\n",
       "      <td>2.166316</td>\n",
       "      <td>1.157895</td>\n",
       "    </tr>\n",
       "  </tbody>\n",
       "</table>\n",
       "<p>5 rows × 65 columns</p>\n",
       "</div>"
      ],
      "text/plain": [
       "      season     team  classement  wins  losses  goals  total_yel_card  \\\n",
       "0  2006-2007  Arsenal           4  19.0     8.0   63.0            59.0   \n",
       "1  2007-2008  Arsenal           3  24.0     3.0   74.0            55.0   \n",
       "2  2008-2009  Arsenal           4  20.0     6.0   68.0            58.0   \n",
       "3  2009-2010  Arsenal           3  23.0     9.0   83.0            56.0   \n",
       "4  2010-2011  Arsenal           4  19.0     8.0   72.0            65.0   \n",
       "\n",
       "   total_red_card  total_scoring_att  ontarget_scoring_att    ...     \\\n",
       "0             3.0              638.0                 226.0    ...      \n",
       "1             3.0              627.0                 208.0    ...      \n",
       "2             3.0              662.0                 220.0    ...      \n",
       "3             1.0              660.0                 233.0    ...      \n",
       "4             6.0              654.0                 238.0    ...      \n",
       "\n",
       "   Away_Win  Draw_away  FTAG  AST   AF   AC  AY  AR  away_odd      HTAG  \n",
       "0         7          5    20  105  178  109  32   3  2.194737  0.421053  \n",
       "1        10          6    37  139  208   97  39   2  2.058947  0.684211  \n",
       "2         9          7    37  140  219  113  35   2  2.437895  0.684211  \n",
       "3         8          4    35  142  226  126  32   0  2.083158  0.894737  \n",
       "4         8          7    39  156  208  114  37   3  2.166316  1.157895  \n",
       "\n",
       "[5 rows x 65 columns]"
      ]
     },
     "execution_count": 55,
     "metadata": {},
     "output_type": "execute_result"
    }
   ],
   "source": [
    "sum_stat_merge.head()"
   ]
  },
  {
   "cell_type": "code",
   "execution_count": 56,
   "metadata": {},
   "outputs": [],
   "source": [
    "home_odd = pd.DataFrame(df['B365H'].groupby([df['HomeTeam'], \n",
    "                                             df['season']]).mean().reset_index())"
   ]
  },
  {
   "cell_type": "code",
   "execution_count": 57,
   "metadata": {},
   "outputs": [],
   "source": [
    "away_odd = pd.DataFrame(df['B365A'].groupby([df['AwayTeam'], \n",
    "                                             df['season']]).mean().reset_index())"
   ]
  },
  {
   "cell_type": "code",
   "execution_count": 58,
   "metadata": {},
   "outputs": [],
   "source": [
    "draw_odd_home = pd.DataFrame(df['B365D'].groupby([df['HomeTeam'], \n",
    "                                                  df['season']]).mean().reset_index())"
   ]
  },
  {
   "cell_type": "code",
   "execution_count": 59,
   "metadata": {},
   "outputs": [],
   "source": [
    "draw_odd_away = pd.DataFrame(df['B365D'].groupby([df['AwayTeam'], \n",
    "                                                  df['season']]).mean().reset_index())"
   ]
  },
  {
   "cell_type": "code",
   "execution_count": 60,
   "metadata": {},
   "outputs": [],
   "source": [
    "away_odd = away_odd.rename(columns={'AwayTeam': 'team'})\n",
    "home_odd = home_odd.rename(columns={'HomeTeam': 'team'})\n",
    "draw_odd_home = draw_odd_home.rename(columns={'HomeTeam': 'team'})\n",
    "draw_odd_away = draw_odd_away.rename(columns={'AwayTeam': 'team'})"
   ]
  },
  {
   "cell_type": "code",
   "execution_count": 61,
   "metadata": {},
   "outputs": [],
   "source": [
    "merged = pd.merge(stats,away_odd, \n",
    "                  on=['team','season'], \n",
    "                  how='left')"
   ]
  },
  {
   "cell_type": "code",
   "execution_count": 62,
   "metadata": {},
   "outputs": [],
   "source": [
    "merged = pd.merge(merged,home_odd, \n",
    "                  on=['team','season'], \n",
    "                  how='left')"
   ]
  },
  {
   "cell_type": "code",
   "execution_count": 63,
   "metadata": {},
   "outputs": [],
   "source": [
    "merged = pd.merge(merged,draw_odd_away, \n",
    "                  on=['team','season'], \n",
    "                  how='left')"
   ]
  },
  {
   "cell_type": "code",
   "execution_count": 64,
   "metadata": {},
   "outputs": [],
   "source": [
    "merged = pd.merge(merged,draw_odd_home, \n",
    "                  on=['team','season'], \n",
    "                  how='left')"
   ]
  },
  {
   "cell_type": "code",
   "execution_count": 65,
   "metadata": {},
   "outputs": [],
   "source": [
    "merged = merged.rename(columns={'B365A': 'mean_away_odd', 'B365H' : 'mean_home_odd',\n",
    "                               'B365D_x': 'mean_draw_away_odd', 'B365D_y':'mean_draw_home_odd'})"
   ]
  },
  {
   "cell_type": "code",
   "execution_count": 66,
   "metadata": {},
   "outputs": [
    {
     "data": {
      "text/html": [
       "<div>\n",
       "<style scoped>\n",
       "    .dataframe tbody tr th:only-of-type {\n",
       "        vertical-align: middle;\n",
       "    }\n",
       "\n",
       "    .dataframe tbody tr th {\n",
       "        vertical-align: top;\n",
       "    }\n",
       "\n",
       "    .dataframe thead th {\n",
       "        text-align: right;\n",
       "    }\n",
       "</style>\n",
       "<table border=\"1\" class=\"dataframe\">\n",
       "  <thead>\n",
       "    <tr style=\"text-align: right;\">\n",
       "      <th></th>\n",
       "      <th>season</th>\n",
       "      <th>team</th>\n",
       "      <th>classement</th>\n",
       "      <th>wins</th>\n",
       "      <th>losses</th>\n",
       "      <th>goals</th>\n",
       "      <th>total_yel_card</th>\n",
       "      <th>total_red_card</th>\n",
       "      <th>total_scoring_att</th>\n",
       "      <th>ontarget_scoring_att</th>\n",
       "      <th>...</th>\n",
       "      <th>big_chance_missed</th>\n",
       "      <th>clearance_off_line</th>\n",
       "      <th>dispossessed</th>\n",
       "      <th>penalty_save</th>\n",
       "      <th>total_high_claim</th>\n",
       "      <th>punches</th>\n",
       "      <th>mean_away_odd</th>\n",
       "      <th>mean_home_odd</th>\n",
       "      <th>mean_draw_away_odd</th>\n",
       "      <th>mean_draw_home_odd</th>\n",
       "    </tr>\n",
       "  </thead>\n",
       "  <tbody>\n",
       "    <tr>\n",
       "      <th>0</th>\n",
       "      <td>2006-2007</td>\n",
       "      <td>Arsenal</td>\n",
       "      <td>4</td>\n",
       "      <td>19.0</td>\n",
       "      <td>8.0</td>\n",
       "      <td>63.0</td>\n",
       "      <td>59.0</td>\n",
       "      <td>3.0</td>\n",
       "      <td>638.0</td>\n",
       "      <td>226.0</td>\n",
       "      <td>...</td>\n",
       "      <td>NaN</td>\n",
       "      <td>1.0</td>\n",
       "      <td>NaN</td>\n",
       "      <td>0.0</td>\n",
       "      <td>88.0</td>\n",
       "      <td>27.0</td>\n",
       "      <td>2.194737</td>\n",
       "      <td>1.524737</td>\n",
       "      <td>3.486842</td>\n",
       "      <td>4.353684</td>\n",
       "    </tr>\n",
       "    <tr>\n",
       "      <th>1</th>\n",
       "      <td>2007-2008</td>\n",
       "      <td>Arsenal</td>\n",
       "      <td>3</td>\n",
       "      <td>24.0</td>\n",
       "      <td>3.0</td>\n",
       "      <td>74.0</td>\n",
       "      <td>55.0</td>\n",
       "      <td>3.0</td>\n",
       "      <td>627.0</td>\n",
       "      <td>208.0</td>\n",
       "      <td>...</td>\n",
       "      <td>NaN</td>\n",
       "      <td>2.0</td>\n",
       "      <td>776.0</td>\n",
       "      <td>1.0</td>\n",
       "      <td>45.0</td>\n",
       "      <td>26.0</td>\n",
       "      <td>2.058947</td>\n",
       "      <td>1.506316</td>\n",
       "      <td>3.665789</td>\n",
       "      <td>4.723684</td>\n",
       "    </tr>\n",
       "    <tr>\n",
       "      <th>2</th>\n",
       "      <td>2008-2009</td>\n",
       "      <td>Arsenal</td>\n",
       "      <td>4</td>\n",
       "      <td>20.0</td>\n",
       "      <td>6.0</td>\n",
       "      <td>68.0</td>\n",
       "      <td>58.0</td>\n",
       "      <td>3.0</td>\n",
       "      <td>662.0</td>\n",
       "      <td>220.0</td>\n",
       "      <td>...</td>\n",
       "      <td>NaN</td>\n",
       "      <td>9.0</td>\n",
       "      <td>692.0</td>\n",
       "      <td>2.0</td>\n",
       "      <td>65.0</td>\n",
       "      <td>26.0</td>\n",
       "      <td>2.437895</td>\n",
       "      <td>1.609474</td>\n",
       "      <td>3.607895</td>\n",
       "      <td>4.366842</td>\n",
       "    </tr>\n",
       "    <tr>\n",
       "      <th>3</th>\n",
       "      <td>2009-2010</td>\n",
       "      <td>Arsenal</td>\n",
       "      <td>3</td>\n",
       "      <td>23.0</td>\n",
       "      <td>9.0</td>\n",
       "      <td>83.0</td>\n",
       "      <td>56.0</td>\n",
       "      <td>1.0</td>\n",
       "      <td>660.0</td>\n",
       "      <td>233.0</td>\n",
       "      <td>...</td>\n",
       "      <td>NaN</td>\n",
       "      <td>3.0</td>\n",
       "      <td>713.0</td>\n",
       "      <td>2.0</td>\n",
       "      <td>75.0</td>\n",
       "      <td>24.0</td>\n",
       "      <td>2.083158</td>\n",
       "      <td>1.507895</td>\n",
       "      <td>3.781579</td>\n",
       "      <td>5.263158</td>\n",
       "    </tr>\n",
       "    <tr>\n",
       "      <th>4</th>\n",
       "      <td>2010-2011</td>\n",
       "      <td>Arsenal</td>\n",
       "      <td>4</td>\n",
       "      <td>19.0</td>\n",
       "      <td>8.0</td>\n",
       "      <td>72.0</td>\n",
       "      <td>65.0</td>\n",
       "      <td>6.0</td>\n",
       "      <td>654.0</td>\n",
       "      <td>238.0</td>\n",
       "      <td>...</td>\n",
       "      <td>88.0</td>\n",
       "      <td>4.0</td>\n",
       "      <td>601.0</td>\n",
       "      <td>2.0</td>\n",
       "      <td>56.0</td>\n",
       "      <td>25.0</td>\n",
       "      <td>2.166316</td>\n",
       "      <td>1.486316</td>\n",
       "      <td>3.700000</td>\n",
       "      <td>5.104211</td>\n",
       "    </tr>\n",
       "  </tbody>\n",
       "</table>\n",
       "<p>5 rows × 47 columns</p>\n",
       "</div>"
      ],
      "text/plain": [
       "      season     team  classement  wins  losses  goals  total_yel_card  \\\n",
       "0  2006-2007  Arsenal           4  19.0     8.0   63.0            59.0   \n",
       "1  2007-2008  Arsenal           3  24.0     3.0   74.0            55.0   \n",
       "2  2008-2009  Arsenal           4  20.0     6.0   68.0            58.0   \n",
       "3  2009-2010  Arsenal           3  23.0     9.0   83.0            56.0   \n",
       "4  2010-2011  Arsenal           4  19.0     8.0   72.0            65.0   \n",
       "\n",
       "   total_red_card  total_scoring_att  ontarget_scoring_att  \\\n",
       "0             3.0              638.0                 226.0   \n",
       "1             3.0              627.0                 208.0   \n",
       "2             3.0              662.0                 220.0   \n",
       "3             1.0              660.0                 233.0   \n",
       "4             6.0              654.0                 238.0   \n",
       "\n",
       "          ...          big_chance_missed  clearance_off_line  dispossessed  \\\n",
       "0         ...                        NaN                 1.0           NaN   \n",
       "1         ...                        NaN                 2.0         776.0   \n",
       "2         ...                        NaN                 9.0         692.0   \n",
       "3         ...                        NaN                 3.0         713.0   \n",
       "4         ...                       88.0                 4.0         601.0   \n",
       "\n",
       "   penalty_save  total_high_claim  punches  mean_away_odd  mean_home_odd  \\\n",
       "0           0.0              88.0     27.0       2.194737       1.524737   \n",
       "1           1.0              45.0     26.0       2.058947       1.506316   \n",
       "2           2.0              65.0     26.0       2.437895       1.609474   \n",
       "3           2.0              75.0     24.0       2.083158       1.507895   \n",
       "4           2.0              56.0     25.0       2.166316       1.486316   \n",
       "\n",
       "   mean_draw_away_odd  mean_draw_home_odd  \n",
       "0            3.486842            4.353684  \n",
       "1            3.665789            4.723684  \n",
       "2            3.607895            4.366842  \n",
       "3            3.781579            5.263158  \n",
       "4            3.700000            5.104211  \n",
       "\n",
       "[5 rows x 47 columns]"
      ]
     },
     "execution_count": 66,
     "metadata": {},
     "output_type": "execute_result"
    }
   ],
   "source": [
    "merged.head()"
   ]
  },
  {
   "cell_type": "code",
   "execution_count": 67,
   "metadata": {},
   "outputs": [
    {
     "data": {
      "text/html": [
       "<div>\n",
       "<style scoped>\n",
       "    .dataframe tbody tr th:only-of-type {\n",
       "        vertical-align: middle;\n",
       "    }\n",
       "\n",
       "    .dataframe tbody tr th {\n",
       "        vertical-align: top;\n",
       "    }\n",
       "\n",
       "    .dataframe thead th {\n",
       "        text-align: right;\n",
       "    }\n",
       "</style>\n",
       "<table border=\"1\" class=\"dataframe\">\n",
       "  <thead>\n",
       "    <tr style=\"text-align: right;\">\n",
       "      <th></th>\n",
       "      <th>season</th>\n",
       "      <th>team</th>\n",
       "      <th>classement</th>\n",
       "      <th>wins</th>\n",
       "      <th>losses</th>\n",
       "      <th>goals</th>\n",
       "      <th>total_yel_card</th>\n",
       "      <th>total_red_card</th>\n",
       "      <th>total_scoring_att</th>\n",
       "      <th>ontarget_scoring_att</th>\n",
       "      <th>...</th>\n",
       "      <th>big_chance_missed</th>\n",
       "      <th>clearance_off_line</th>\n",
       "      <th>dispossessed</th>\n",
       "      <th>penalty_save</th>\n",
       "      <th>total_high_claim</th>\n",
       "      <th>punches</th>\n",
       "      <th>mean_away_odd</th>\n",
       "      <th>mean_home_odd</th>\n",
       "      <th>mean_draw_away_odd</th>\n",
       "      <th>mean_draw_home_odd</th>\n",
       "    </tr>\n",
       "  </thead>\n",
       "  <tbody>\n",
       "    <tr>\n",
       "      <th>0</th>\n",
       "      <td>2006-2007</td>\n",
       "      <td>Arsenal</td>\n",
       "      <td>4</td>\n",
       "      <td>19.0</td>\n",
       "      <td>8.0</td>\n",
       "      <td>63.0</td>\n",
       "      <td>59.0</td>\n",
       "      <td>3.0</td>\n",
       "      <td>638.0</td>\n",
       "      <td>226.0</td>\n",
       "      <td>...</td>\n",
       "      <td>NaN</td>\n",
       "      <td>1.0</td>\n",
       "      <td>NaN</td>\n",
       "      <td>0.0</td>\n",
       "      <td>88.0</td>\n",
       "      <td>27.0</td>\n",
       "      <td>2.194737</td>\n",
       "      <td>1.524737</td>\n",
       "      <td>3.486842</td>\n",
       "      <td>4.353684</td>\n",
       "    </tr>\n",
       "    <tr>\n",
       "      <th>1</th>\n",
       "      <td>2007-2008</td>\n",
       "      <td>Arsenal</td>\n",
       "      <td>3</td>\n",
       "      <td>24.0</td>\n",
       "      <td>3.0</td>\n",
       "      <td>74.0</td>\n",
       "      <td>55.0</td>\n",
       "      <td>3.0</td>\n",
       "      <td>627.0</td>\n",
       "      <td>208.0</td>\n",
       "      <td>...</td>\n",
       "      <td>NaN</td>\n",
       "      <td>2.0</td>\n",
       "      <td>776.0</td>\n",
       "      <td>1.0</td>\n",
       "      <td>45.0</td>\n",
       "      <td>26.0</td>\n",
       "      <td>2.058947</td>\n",
       "      <td>1.506316</td>\n",
       "      <td>3.665789</td>\n",
       "      <td>4.723684</td>\n",
       "    </tr>\n",
       "    <tr>\n",
       "      <th>2</th>\n",
       "      <td>2008-2009</td>\n",
       "      <td>Arsenal</td>\n",
       "      <td>4</td>\n",
       "      <td>20.0</td>\n",
       "      <td>6.0</td>\n",
       "      <td>68.0</td>\n",
       "      <td>58.0</td>\n",
       "      <td>3.0</td>\n",
       "      <td>662.0</td>\n",
       "      <td>220.0</td>\n",
       "      <td>...</td>\n",
       "      <td>NaN</td>\n",
       "      <td>9.0</td>\n",
       "      <td>692.0</td>\n",
       "      <td>2.0</td>\n",
       "      <td>65.0</td>\n",
       "      <td>26.0</td>\n",
       "      <td>2.437895</td>\n",
       "      <td>1.609474</td>\n",
       "      <td>3.607895</td>\n",
       "      <td>4.366842</td>\n",
       "    </tr>\n",
       "    <tr>\n",
       "      <th>3</th>\n",
       "      <td>2009-2010</td>\n",
       "      <td>Arsenal</td>\n",
       "      <td>3</td>\n",
       "      <td>23.0</td>\n",
       "      <td>9.0</td>\n",
       "      <td>83.0</td>\n",
       "      <td>56.0</td>\n",
       "      <td>1.0</td>\n",
       "      <td>660.0</td>\n",
       "      <td>233.0</td>\n",
       "      <td>...</td>\n",
       "      <td>NaN</td>\n",
       "      <td>3.0</td>\n",
       "      <td>713.0</td>\n",
       "      <td>2.0</td>\n",
       "      <td>75.0</td>\n",
       "      <td>24.0</td>\n",
       "      <td>2.083158</td>\n",
       "      <td>1.507895</td>\n",
       "      <td>3.781579</td>\n",
       "      <td>5.263158</td>\n",
       "    </tr>\n",
       "    <tr>\n",
       "      <th>4</th>\n",
       "      <td>2010-2011</td>\n",
       "      <td>Arsenal</td>\n",
       "      <td>4</td>\n",
       "      <td>19.0</td>\n",
       "      <td>8.0</td>\n",
       "      <td>72.0</td>\n",
       "      <td>65.0</td>\n",
       "      <td>6.0</td>\n",
       "      <td>654.0</td>\n",
       "      <td>238.0</td>\n",
       "      <td>...</td>\n",
       "      <td>88.0</td>\n",
       "      <td>4.0</td>\n",
       "      <td>601.0</td>\n",
       "      <td>2.0</td>\n",
       "      <td>56.0</td>\n",
       "      <td>25.0</td>\n",
       "      <td>2.166316</td>\n",
       "      <td>1.486316</td>\n",
       "      <td>3.700000</td>\n",
       "      <td>5.104211</td>\n",
       "    </tr>\n",
       "  </tbody>\n",
       "</table>\n",
       "<p>5 rows × 47 columns</p>\n",
       "</div>"
      ],
      "text/plain": [
       "      season     team  classement  wins  losses  goals  total_yel_card  \\\n",
       "0  2006-2007  Arsenal           4  19.0     8.0   63.0            59.0   \n",
       "1  2007-2008  Arsenal           3  24.0     3.0   74.0            55.0   \n",
       "2  2008-2009  Arsenal           4  20.0     6.0   68.0            58.0   \n",
       "3  2009-2010  Arsenal           3  23.0     9.0   83.0            56.0   \n",
       "4  2010-2011  Arsenal           4  19.0     8.0   72.0            65.0   \n",
       "\n",
       "   total_red_card  total_scoring_att  ontarget_scoring_att  \\\n",
       "0             3.0              638.0                 226.0   \n",
       "1             3.0              627.0                 208.0   \n",
       "2             3.0              662.0                 220.0   \n",
       "3             1.0              660.0                 233.0   \n",
       "4             6.0              654.0                 238.0   \n",
       "\n",
       "          ...          big_chance_missed  clearance_off_line  dispossessed  \\\n",
       "0         ...                        NaN                 1.0           NaN   \n",
       "1         ...                        NaN                 2.0         776.0   \n",
       "2         ...                        NaN                 9.0         692.0   \n",
       "3         ...                        NaN                 3.0         713.0   \n",
       "4         ...                       88.0                 4.0         601.0   \n",
       "\n",
       "   penalty_save  total_high_claim  punches  mean_away_odd  mean_home_odd  \\\n",
       "0           0.0              88.0     27.0       2.194737       1.524737   \n",
       "1           1.0              45.0     26.0       2.058947       1.506316   \n",
       "2           2.0              65.0     26.0       2.437895       1.609474   \n",
       "3           2.0              75.0     24.0       2.083158       1.507895   \n",
       "4           2.0              56.0     25.0       2.166316       1.486316   \n",
       "\n",
       "   mean_draw_away_odd  mean_draw_home_odd  \n",
       "0            3.486842            4.353684  \n",
       "1            3.665789            4.723684  \n",
       "2            3.607895            4.366842  \n",
       "3            3.781579            5.263158  \n",
       "4            3.700000            5.104211  \n",
       "\n",
       "[5 rows x 47 columns]"
      ]
     },
     "execution_count": 67,
     "metadata": {},
     "output_type": "execute_result"
    }
   ],
   "source": [
    "merged.head()"
   ]
  },
  {
   "cell_type": "code",
   "execution_count": 68,
   "metadata": {},
   "outputs": [],
   "source": [
    "away_sort =  merged.sort_values(by = ['season','mean_home_odd'], \n",
    "                                ascending = True)"
   ]
  },
  {
   "cell_type": "code",
   "execution_count": 69,
   "metadata": {},
   "outputs": [],
   "source": [
    "away = away_sort[['season','team','classement','mean_away_odd']]"
   ]
  },
  {
   "cell_type": "code",
   "execution_count": 70,
   "metadata": {},
   "outputs": [
    {
     "name": "stderr",
     "output_type": "stream",
     "text": [
      "C:\\Users\\marie\\Anaconda3\\lib\\site-packages\\ipykernel_launcher.py:1: SettingWithCopyWarning: \n",
      "A value is trying to be set on a copy of a slice from a DataFrame.\n",
      "Try using .loc[row_indexer,col_indexer] = value instead\n",
      "\n",
      "See the caveats in the documentation: http://pandas.pydata.org/pandas-docs/stable/indexing.html#indexing-view-versus-copy\n",
      "  \"\"\"Entry point for launching an IPython kernel.\n"
     ]
    }
   ],
   "source": [
    "away['classement_odd'] = away.groupby('season')['team'].cumcount() + 1"
   ]
  },
  {
   "cell_type": "markdown",
   "metadata": {},
   "source": [
    "Dans les prochains codes, nous allons comparer le classement final par saison et le classement effectué à partir de la moyenne des côtes sur la saison. Il est difficile d'avoir exactement le même classement c'est pourquoi nous créons des classes: par exemple, si le classement final est compris entre 1 et 5 et que le classement par côte est également compris entre 1 et 5, nous estimons que la prédiction venant des paris sportifs est bonne."
   ]
  },
  {
   "cell_type": "code",
   "execution_count": 71,
   "metadata": {},
   "outputs": [
    {
     "name": "stderr",
     "output_type": "stream",
     "text": [
      "C:\\Users\\marie\\Anaconda3\\lib\\site-packages\\ipykernel_launcher.py:12: SettingWithCopyWarning: \n",
      "A value is trying to be set on a copy of a slice from a DataFrame.\n",
      "Try using .loc[row_indexer,col_indexer] = value instead\n",
      "\n",
      "See the caveats in the documentation: http://pandas.pydata.org/pandas-docs/stable/indexing.html#indexing-view-versus-copy\n",
      "  if sys.path[0] == '':\n"
     ]
    }
   ],
   "source": [
    "import operator\n",
    "conditions = [\n",
    "    (operator.and_(away['classement']<=5, away['classement_odd']<=5)),\n",
    "    (operator.and_(operator.and_(away['classement'] > 5,away['classement'] <= 10), \n",
    "                   operator.and_(away['classement_odd'] > 5,away['classement_odd'] <= 10))),\n",
    "    (operator.and_(operator.and_(away['classement'] > 10,away['classement'] <= 15), \n",
    "                    operator.and_(away['classement_odd'] > 10,away['classement_odd'] <= 15))),\n",
    "    (operator.and_(operator.and_(away['classement'] > 15,away['classement'] <= 20), \n",
    "                   operator.and_(away['classement_odd'] > 15,away['classement_odd'] <= 20)))\n",
    "                   ]\n",
    "choices = ['Bonne prédiction', 'Bonne prédiction', 'Bonne prédiction','Bonne prédiction']\n",
    "away['compar'] = np.select(conditions, choices, default='Mauvaise prédiction')"
   ]
  },
  {
   "cell_type": "code",
   "execution_count": 72,
   "metadata": {},
   "outputs": [
    {
     "data": {
      "text/html": [
       "<div>\n",
       "<style scoped>\n",
       "    .dataframe tbody tr th:only-of-type {\n",
       "        vertical-align: middle;\n",
       "    }\n",
       "\n",
       "    .dataframe tbody tr th {\n",
       "        vertical-align: top;\n",
       "    }\n",
       "\n",
       "    .dataframe thead th {\n",
       "        text-align: right;\n",
       "    }\n",
       "</style>\n",
       "<table border=\"1\" class=\"dataframe\">\n",
       "  <thead>\n",
       "    <tr style=\"text-align: right;\">\n",
       "      <th></th>\n",
       "      <th>season</th>\n",
       "      <th>team</th>\n",
       "      <th>classement</th>\n",
       "      <th>mean_away_odd</th>\n",
       "      <th>classement_odd</th>\n",
       "      <th>compar</th>\n",
       "    </tr>\n",
       "  </thead>\n",
       "  <tbody>\n",
       "    <tr>\n",
       "      <th>44</th>\n",
       "      <td>2006-2007</td>\n",
       "      <td>Chelsea</td>\n",
       "      <td>2</td>\n",
       "      <td>1.653158</td>\n",
       "      <td>1</td>\n",
       "      <td>Bonne prédiction</td>\n",
       "    </tr>\n",
       "    <tr>\n",
       "      <th>109</th>\n",
       "      <td>2006-2007</td>\n",
       "      <td>Man United</td>\n",
       "      <td>1</td>\n",
       "      <td>1.755789</td>\n",
       "      <td>2</td>\n",
       "      <td>Bonne prédiction</td>\n",
       "    </tr>\n",
       "    <tr>\n",
       "      <th>0</th>\n",
       "      <td>2006-2007</td>\n",
       "      <td>Arsenal</td>\n",
       "      <td>4</td>\n",
       "      <td>2.194737</td>\n",
       "      <td>3</td>\n",
       "      <td>Bonne prédiction</td>\n",
       "    </tr>\n",
       "    <tr>\n",
       "      <th>87</th>\n",
       "      <td>2006-2007</td>\n",
       "      <td>Liverpool</td>\n",
       "      <td>3</td>\n",
       "      <td>2.256842</td>\n",
       "      <td>4</td>\n",
       "      <td>Bonne prédiction</td>\n",
       "    </tr>\n",
       "    <tr>\n",
       "      <th>178</th>\n",
       "      <td>2006-2007</td>\n",
       "      <td>Tottenham</td>\n",
       "      <td>5</td>\n",
       "      <td>3.324211</td>\n",
       "      <td>5</td>\n",
       "      <td>Bonne prédiction</td>\n",
       "    </tr>\n",
       "    <tr>\n",
       "      <th>31</th>\n",
       "      <td>2006-2007</td>\n",
       "      <td>Bolton</td>\n",
       "      <td>7</td>\n",
       "      <td>3.880000</td>\n",
       "      <td>6</td>\n",
       "      <td>Bonne prédiction</td>\n",
       "    </tr>\n",
       "    <tr>\n",
       "      <th>60</th>\n",
       "      <td>2006-2007</td>\n",
       "      <td>Everton</td>\n",
       "      <td>6</td>\n",
       "      <td>3.901053</td>\n",
       "      <td>7</td>\n",
       "      <td>Bonne prédiction</td>\n",
       "    </tr>\n",
       "    <tr>\n",
       "      <th>137</th>\n",
       "      <td>2006-2007</td>\n",
       "      <td>Portsmouth</td>\n",
       "      <td>9</td>\n",
       "      <td>4.348421</td>\n",
       "      <td>8</td>\n",
       "      <td>Bonne prédiction</td>\n",
       "    </tr>\n",
       "    <tr>\n",
       "      <th>124</th>\n",
       "      <td>2006-2007</td>\n",
       "      <td>Newcastle</td>\n",
       "      <td>13</td>\n",
       "      <td>4.968947</td>\n",
       "      <td>9</td>\n",
       "      <td>Mauvaise prédiction</td>\n",
       "    </tr>\n",
       "    <tr>\n",
       "      <th>11</th>\n",
       "      <td>2006-2007</td>\n",
       "      <td>Aston Villa</td>\n",
       "      <td>11</td>\n",
       "      <td>4.680000</td>\n",
       "      <td>10</td>\n",
       "      <td>Mauvaise prédiction</td>\n",
       "    </tr>\n",
       "    <tr>\n",
       "      <th>24</th>\n",
       "      <td>2006-2007</td>\n",
       "      <td>Blackburn</td>\n",
       "      <td>10</td>\n",
       "      <td>4.431579</td>\n",
       "      <td>11</td>\n",
       "      <td>Mauvaise prédiction</td>\n",
       "    </tr>\n",
       "    <tr>\n",
       "      <th>120</th>\n",
       "      <td>2006-2007</td>\n",
       "      <td>Middlesbrough</td>\n",
       "      <td>12</td>\n",
       "      <td>4.944737</td>\n",
       "      <td>12</td>\n",
       "      <td>Bonne prédiction</td>\n",
       "    </tr>\n",
       "    <tr>\n",
       "      <th>98</th>\n",
       "      <td>2006-2007</td>\n",
       "      <td>Man City</td>\n",
       "      <td>14</td>\n",
       "      <td>5.029474</td>\n",
       "      <td>13</td>\n",
       "      <td>Bonne prédiction</td>\n",
       "    </tr>\n",
       "    <tr>\n",
       "      <th>144</th>\n",
       "      <td>2006-2007</td>\n",
       "      <td>Reading</td>\n",
       "      <td>8</td>\n",
       "      <td>5.250000</td>\n",
       "      <td>14</td>\n",
       "      <td>Mauvaise prédiction</td>\n",
       "    </tr>\n",
       "    <tr>\n",
       "      <th>210</th>\n",
       "      <td>2006-2007</td>\n",
       "      <td>Wigan</td>\n",
       "      <td>17</td>\n",
       "      <td>5.666842</td>\n",
       "      <td>15</td>\n",
       "      <td>Mauvaise prédiction</td>\n",
       "    </tr>\n",
       "    <tr>\n",
       "      <th>200</th>\n",
       "      <td>2006-2007</td>\n",
       "      <td>West Ham</td>\n",
       "      <td>15</td>\n",
       "      <td>4.893684</td>\n",
       "      <td>16</td>\n",
       "      <td>Mauvaise prédiction</td>\n",
       "    </tr>\n",
       "    <tr>\n",
       "      <th>71</th>\n",
       "      <td>2006-2007</td>\n",
       "      <td>Fulham</td>\n",
       "      <td>16</td>\n",
       "      <td>6.030000</td>\n",
       "      <td>17</td>\n",
       "      <td>Bonne prédiction</td>\n",
       "    </tr>\n",
       "    <tr>\n",
       "      <th>43</th>\n",
       "      <td>2006-2007</td>\n",
       "      <td>Charlton</td>\n",
       "      <td>19</td>\n",
       "      <td>6.391053</td>\n",
       "      <td>18</td>\n",
       "      <td>Bonne prédiction</td>\n",
       "    </tr>\n",
       "    <tr>\n",
       "      <th>147</th>\n",
       "      <td>2006-2007</td>\n",
       "      <td>Sheffield United</td>\n",
       "      <td>18</td>\n",
       "      <td>6.779474</td>\n",
       "      <td>19</td>\n",
       "      <td>Bonne prédiction</td>\n",
       "    </tr>\n",
       "    <tr>\n",
       "      <th>189</th>\n",
       "      <td>2006-2007</td>\n",
       "      <td>Watford</td>\n",
       "      <td>20</td>\n",
       "      <td>7.929474</td>\n",
       "      <td>20</td>\n",
       "      <td>Bonne prédiction</td>\n",
       "    </tr>\n",
       "  </tbody>\n",
       "</table>\n",
       "</div>"
      ],
      "text/plain": [
       "        season              team  classement  mean_away_odd  classement_odd  \\\n",
       "44   2006-2007           Chelsea           2       1.653158               1   \n",
       "109  2006-2007        Man United           1       1.755789               2   \n",
       "0    2006-2007           Arsenal           4       2.194737               3   \n",
       "87   2006-2007         Liverpool           3       2.256842               4   \n",
       "178  2006-2007         Tottenham           5       3.324211               5   \n",
       "31   2006-2007            Bolton           7       3.880000               6   \n",
       "60   2006-2007           Everton           6       3.901053               7   \n",
       "137  2006-2007        Portsmouth           9       4.348421               8   \n",
       "124  2006-2007         Newcastle          13       4.968947               9   \n",
       "11   2006-2007       Aston Villa          11       4.680000              10   \n",
       "24   2006-2007         Blackburn          10       4.431579              11   \n",
       "120  2006-2007     Middlesbrough          12       4.944737              12   \n",
       "98   2006-2007          Man City          14       5.029474              13   \n",
       "144  2006-2007           Reading           8       5.250000              14   \n",
       "210  2006-2007             Wigan          17       5.666842              15   \n",
       "200  2006-2007          West Ham          15       4.893684              16   \n",
       "71   2006-2007            Fulham          16       6.030000              17   \n",
       "43   2006-2007          Charlton          19       6.391053              18   \n",
       "147  2006-2007  Sheffield United          18       6.779474              19   \n",
       "189  2006-2007           Watford          20       7.929474              20   \n",
       "\n",
       "                  compar  \n",
       "44      Bonne prédiction  \n",
       "109     Bonne prédiction  \n",
       "0       Bonne prédiction  \n",
       "87      Bonne prédiction  \n",
       "178     Bonne prédiction  \n",
       "31      Bonne prédiction  \n",
       "60      Bonne prédiction  \n",
       "137     Bonne prédiction  \n",
       "124  Mauvaise prédiction  \n",
       "11   Mauvaise prédiction  \n",
       "24   Mauvaise prédiction  \n",
       "120     Bonne prédiction  \n",
       "98      Bonne prédiction  \n",
       "144  Mauvaise prédiction  \n",
       "210  Mauvaise prédiction  \n",
       "200  Mauvaise prédiction  \n",
       "71      Bonne prédiction  \n",
       "43      Bonne prédiction  \n",
       "147     Bonne prédiction  \n",
       "189     Bonne prédiction  "
      ]
     },
     "execution_count": 72,
     "metadata": {},
     "output_type": "execute_result"
    }
   ],
   "source": [
    "away.head(20)"
   ]
  },
  {
   "cell_type": "code",
   "execution_count": 73,
   "metadata": {},
   "outputs": [],
   "source": [
    "home_sort = merged.sort_values(by = ['season','mean_home_odd'], ascending = True)"
   ]
  },
  {
   "cell_type": "code",
   "execution_count": 74,
   "metadata": {},
   "outputs": [],
   "source": [
    "home = home_sort[['season','team','classement','mean_home_odd']]"
   ]
  },
  {
   "cell_type": "code",
   "execution_count": 75,
   "metadata": {},
   "outputs": [
    {
     "name": "stderr",
     "output_type": "stream",
     "text": [
      "C:\\Users\\marie\\Anaconda3\\lib\\site-packages\\ipykernel_launcher.py:1: SettingWithCopyWarning: \n",
      "A value is trying to be set on a copy of a slice from a DataFrame.\n",
      "Try using .loc[row_indexer,col_indexer] = value instead\n",
      "\n",
      "See the caveats in the documentation: http://pandas.pydata.org/pandas-docs/stable/indexing.html#indexing-view-versus-copy\n",
      "  \"\"\"Entry point for launching an IPython kernel.\n"
     ]
    }
   ],
   "source": [
    "home['classement_odd'] = home.groupby('season').cumcount() + 1"
   ]
  },
  {
   "cell_type": "code",
   "execution_count": 76,
   "metadata": {},
   "outputs": [
    {
     "name": "stderr",
     "output_type": "stream",
     "text": [
      "C:\\Users\\marie\\Anaconda3\\lib\\site-packages\\ipykernel_launcher.py:11: SettingWithCopyWarning: \n",
      "A value is trying to be set on a copy of a slice from a DataFrame.\n",
      "Try using .loc[row_indexer,col_indexer] = value instead\n",
      "\n",
      "See the caveats in the documentation: http://pandas.pydata.org/pandas-docs/stable/indexing.html#indexing-view-versus-copy\n",
      "  # This is added back by InteractiveShellApp.init_path()\n"
     ]
    }
   ],
   "source": [
    "conditions = [\n",
    "    (operator.and_(home['classement']<=5, home['classement_odd']<=5)),\n",
    "    (operator.and_(operator.and_(home['classement'] > 5,home['classement'] <= 10), \n",
    "                   operator.and_(home['classement_odd'] > 5,home['classement_odd'] <= 10))),\n",
    "    (operator.and_(operator.and_(home['classement'] > 10,home['classement'] <= 15), \n",
    "                   operator.and_(home['classement_odd'] > 10,home['classement_odd'] <= 15))),\n",
    "    (operator.and_(operator.and_(home['classement'] > 15,home['classement'] <= 20), \n",
    "                   operator.and_(home['classement_odd'] > 15,home['classement_odd'] <= 20)))\n",
    "                   ]\n",
    "choices = ['Bonne prédiction', 'Bonne prédiction', 'Bonne prédiction','Bonne prédiction']\n",
    "home['compar'] = np.select(conditions, choices, default='Mauvaise prédiction')\n"
   ]
  },
  {
   "cell_type": "code",
   "execution_count": 77,
   "metadata": {},
   "outputs": [
    {
     "data": {
      "text/html": [
       "<div>\n",
       "<style scoped>\n",
       "    .dataframe tbody tr th:only-of-type {\n",
       "        vertical-align: middle;\n",
       "    }\n",
       "\n",
       "    .dataframe tbody tr th {\n",
       "        vertical-align: top;\n",
       "    }\n",
       "\n",
       "    .dataframe thead th {\n",
       "        text-align: right;\n",
       "    }\n",
       "</style>\n",
       "<table border=\"1\" class=\"dataframe\">\n",
       "  <thead>\n",
       "    <tr style=\"text-align: right;\">\n",
       "      <th></th>\n",
       "      <th>season</th>\n",
       "      <th>team</th>\n",
       "      <th>classement</th>\n",
       "      <th>mean_home_odd</th>\n",
       "      <th>classement_odd</th>\n",
       "      <th>compar</th>\n",
       "    </tr>\n",
       "  </thead>\n",
       "  <tbody>\n",
       "    <tr>\n",
       "      <th>44</th>\n",
       "      <td>2006-2007</td>\n",
       "      <td>Chelsea</td>\n",
       "      <td>2</td>\n",
       "      <td>1.359474</td>\n",
       "      <td>1</td>\n",
       "      <td>Bonne prédiction</td>\n",
       "    </tr>\n",
       "    <tr>\n",
       "      <th>109</th>\n",
       "      <td>2006-2007</td>\n",
       "      <td>Man United</td>\n",
       "      <td>1</td>\n",
       "      <td>1.408421</td>\n",
       "      <td>2</td>\n",
       "      <td>Bonne prédiction</td>\n",
       "    </tr>\n",
       "    <tr>\n",
       "      <th>0</th>\n",
       "      <td>2006-2007</td>\n",
       "      <td>Arsenal</td>\n",
       "      <td>4</td>\n",
       "      <td>1.524737</td>\n",
       "      <td>3</td>\n",
       "      <td>Bonne prédiction</td>\n",
       "    </tr>\n",
       "    <tr>\n",
       "      <th>87</th>\n",
       "      <td>2006-2007</td>\n",
       "      <td>Liverpool</td>\n",
       "      <td>3</td>\n",
       "      <td>1.606316</td>\n",
       "      <td>4</td>\n",
       "      <td>Bonne prédiction</td>\n",
       "    </tr>\n",
       "    <tr>\n",
       "      <th>178</th>\n",
       "      <td>2006-2007</td>\n",
       "      <td>Tottenham</td>\n",
       "      <td>5</td>\n",
       "      <td>2.139474</td>\n",
       "      <td>5</td>\n",
       "      <td>Bonne prédiction</td>\n",
       "    </tr>\n",
       "    <tr>\n",
       "      <th>31</th>\n",
       "      <td>2006-2007</td>\n",
       "      <td>Bolton</td>\n",
       "      <td>7</td>\n",
       "      <td>2.361579</td>\n",
       "      <td>6</td>\n",
       "      <td>Bonne prédiction</td>\n",
       "    </tr>\n",
       "    <tr>\n",
       "      <th>60</th>\n",
       "      <td>2006-2007</td>\n",
       "      <td>Everton</td>\n",
       "      <td>6</td>\n",
       "      <td>2.425789</td>\n",
       "      <td>7</td>\n",
       "      <td>Bonne prédiction</td>\n",
       "    </tr>\n",
       "    <tr>\n",
       "      <th>137</th>\n",
       "      <td>2006-2007</td>\n",
       "      <td>Portsmouth</td>\n",
       "      <td>9</td>\n",
       "      <td>2.478947</td>\n",
       "      <td>8</td>\n",
       "      <td>Bonne prédiction</td>\n",
       "    </tr>\n",
       "    <tr>\n",
       "      <th>124</th>\n",
       "      <td>2006-2007</td>\n",
       "      <td>Newcastle</td>\n",
       "      <td>13</td>\n",
       "      <td>2.598947</td>\n",
       "      <td>9</td>\n",
       "      <td>Mauvaise prédiction</td>\n",
       "    </tr>\n",
       "    <tr>\n",
       "      <th>11</th>\n",
       "      <td>2006-2007</td>\n",
       "      <td>Aston Villa</td>\n",
       "      <td>11</td>\n",
       "      <td>2.602105</td>\n",
       "      <td>10</td>\n",
       "      <td>Mauvaise prédiction</td>\n",
       "    </tr>\n",
       "    <tr>\n",
       "      <th>24</th>\n",
       "      <td>2006-2007</td>\n",
       "      <td>Blackburn</td>\n",
       "      <td>10</td>\n",
       "      <td>2.677368</td>\n",
       "      <td>11</td>\n",
       "      <td>Mauvaise prédiction</td>\n",
       "    </tr>\n",
       "    <tr>\n",
       "      <th>120</th>\n",
       "      <td>2006-2007</td>\n",
       "      <td>Middlesbrough</td>\n",
       "      <td>12</td>\n",
       "      <td>2.866316</td>\n",
       "      <td>12</td>\n",
       "      <td>Bonne prédiction</td>\n",
       "    </tr>\n",
       "    <tr>\n",
       "      <th>98</th>\n",
       "      <td>2006-2007</td>\n",
       "      <td>Man City</td>\n",
       "      <td>14</td>\n",
       "      <td>2.887895</td>\n",
       "      <td>13</td>\n",
       "      <td>Bonne prédiction</td>\n",
       "    </tr>\n",
       "    <tr>\n",
       "      <th>144</th>\n",
       "      <td>2006-2007</td>\n",
       "      <td>Reading</td>\n",
       "      <td>8</td>\n",
       "      <td>2.922632</td>\n",
       "      <td>14</td>\n",
       "      <td>Mauvaise prédiction</td>\n",
       "    </tr>\n",
       "    <tr>\n",
       "      <th>210</th>\n",
       "      <td>2006-2007</td>\n",
       "      <td>Wigan</td>\n",
       "      <td>17</td>\n",
       "      <td>2.940526</td>\n",
       "      <td>15</td>\n",
       "      <td>Mauvaise prédiction</td>\n",
       "    </tr>\n",
       "    <tr>\n",
       "      <th>200</th>\n",
       "      <td>2006-2007</td>\n",
       "      <td>West Ham</td>\n",
       "      <td>15</td>\n",
       "      <td>2.980526</td>\n",
       "      <td>16</td>\n",
       "      <td>Mauvaise prédiction</td>\n",
       "    </tr>\n",
       "    <tr>\n",
       "      <th>71</th>\n",
       "      <td>2006-2007</td>\n",
       "      <td>Fulham</td>\n",
       "      <td>16</td>\n",
       "      <td>3.066842</td>\n",
       "      <td>17</td>\n",
       "      <td>Bonne prédiction</td>\n",
       "    </tr>\n",
       "    <tr>\n",
       "      <th>43</th>\n",
       "      <td>2006-2007</td>\n",
       "      <td>Charlton</td>\n",
       "      <td>19</td>\n",
       "      <td>3.356316</td>\n",
       "      <td>18</td>\n",
       "      <td>Bonne prédiction</td>\n",
       "    </tr>\n",
       "    <tr>\n",
       "      <th>147</th>\n",
       "      <td>2006-2007</td>\n",
       "      <td>Sheffield United</td>\n",
       "      <td>18</td>\n",
       "      <td>3.672632</td>\n",
       "      <td>19</td>\n",
       "      <td>Bonne prédiction</td>\n",
       "    </tr>\n",
       "    <tr>\n",
       "      <th>189</th>\n",
       "      <td>2006-2007</td>\n",
       "      <td>Watford</td>\n",
       "      <td>20</td>\n",
       "      <td>3.873158</td>\n",
       "      <td>20</td>\n",
       "      <td>Bonne prédiction</td>\n",
       "    </tr>\n",
       "  </tbody>\n",
       "</table>\n",
       "</div>"
      ],
      "text/plain": [
       "        season              team  classement  mean_home_odd  classement_odd  \\\n",
       "44   2006-2007           Chelsea           2       1.359474               1   \n",
       "109  2006-2007        Man United           1       1.408421               2   \n",
       "0    2006-2007           Arsenal           4       1.524737               3   \n",
       "87   2006-2007         Liverpool           3       1.606316               4   \n",
       "178  2006-2007         Tottenham           5       2.139474               5   \n",
       "31   2006-2007            Bolton           7       2.361579               6   \n",
       "60   2006-2007           Everton           6       2.425789               7   \n",
       "137  2006-2007        Portsmouth           9       2.478947               8   \n",
       "124  2006-2007         Newcastle          13       2.598947               9   \n",
       "11   2006-2007       Aston Villa          11       2.602105              10   \n",
       "24   2006-2007         Blackburn          10       2.677368              11   \n",
       "120  2006-2007     Middlesbrough          12       2.866316              12   \n",
       "98   2006-2007          Man City          14       2.887895              13   \n",
       "144  2006-2007           Reading           8       2.922632              14   \n",
       "210  2006-2007             Wigan          17       2.940526              15   \n",
       "200  2006-2007          West Ham          15       2.980526              16   \n",
       "71   2006-2007            Fulham          16       3.066842              17   \n",
       "43   2006-2007          Charlton          19       3.356316              18   \n",
       "147  2006-2007  Sheffield United          18       3.672632              19   \n",
       "189  2006-2007           Watford          20       3.873158              20   \n",
       "\n",
       "                  compar  \n",
       "44      Bonne prédiction  \n",
       "109     Bonne prédiction  \n",
       "0       Bonne prédiction  \n",
       "87      Bonne prédiction  \n",
       "178     Bonne prédiction  \n",
       "31      Bonne prédiction  \n",
       "60      Bonne prédiction  \n",
       "137     Bonne prédiction  \n",
       "124  Mauvaise prédiction  \n",
       "11   Mauvaise prédiction  \n",
       "24   Mauvaise prédiction  \n",
       "120     Bonne prédiction  \n",
       "98      Bonne prédiction  \n",
       "144  Mauvaise prédiction  \n",
       "210  Mauvaise prédiction  \n",
       "200  Mauvaise prédiction  \n",
       "71      Bonne prédiction  \n",
       "43      Bonne prédiction  \n",
       "147     Bonne prédiction  \n",
       "189     Bonne prédiction  "
      ]
     },
     "execution_count": 77,
     "metadata": {},
     "output_type": "execute_result"
    }
   ],
   "source": [
    "home.head(20)"
   ]
  },
  {
   "cell_type": "markdown",
   "metadata": {},
   "source": [
    "### Modélisation "
   ]
  },
  {
   "cell_type": "code",
   "execution_count": 78,
   "metadata": {},
   "outputs": [
    {
     "data": {
      "text/html": [
       "<div>\n",
       "<style scoped>\n",
       "    .dataframe tbody tr th:only-of-type {\n",
       "        vertical-align: middle;\n",
       "    }\n",
       "\n",
       "    .dataframe tbody tr th {\n",
       "        vertical-align: top;\n",
       "    }\n",
       "\n",
       "    .dataframe thead th {\n",
       "        text-align: right;\n",
       "    }\n",
       "</style>\n",
       "<table border=\"1\" class=\"dataframe\">\n",
       "  <thead>\n",
       "    <tr style=\"text-align: right;\">\n",
       "      <th></th>\n",
       "      <th>season</th>\n",
       "      <th>team</th>\n",
       "      <th>classement</th>\n",
       "      <th>wins</th>\n",
       "      <th>losses</th>\n",
       "      <th>goals</th>\n",
       "      <th>total_yel_card</th>\n",
       "      <th>total_red_card</th>\n",
       "      <th>total_scoring_att</th>\n",
       "      <th>ontarget_scoring_att</th>\n",
       "      <th>...</th>\n",
       "      <th>Away_Win</th>\n",
       "      <th>Draw_away</th>\n",
       "      <th>FTAG</th>\n",
       "      <th>AST</th>\n",
       "      <th>AF</th>\n",
       "      <th>AC</th>\n",
       "      <th>AY</th>\n",
       "      <th>AR</th>\n",
       "      <th>away_odd</th>\n",
       "      <th>HTAG</th>\n",
       "    </tr>\n",
       "  </thead>\n",
       "  <tbody>\n",
       "    <tr>\n",
       "      <th>0</th>\n",
       "      <td>2006-2007</td>\n",
       "      <td>Arsenal</td>\n",
       "      <td>4</td>\n",
       "      <td>19.0</td>\n",
       "      <td>8.0</td>\n",
       "      <td>63.0</td>\n",
       "      <td>59.0</td>\n",
       "      <td>3.0</td>\n",
       "      <td>638.0</td>\n",
       "      <td>226.0</td>\n",
       "      <td>...</td>\n",
       "      <td>7</td>\n",
       "      <td>5</td>\n",
       "      <td>20</td>\n",
       "      <td>105</td>\n",
       "      <td>178</td>\n",
       "      <td>109</td>\n",
       "      <td>32</td>\n",
       "      <td>3</td>\n",
       "      <td>2.194737</td>\n",
       "      <td>0.421053</td>\n",
       "    </tr>\n",
       "    <tr>\n",
       "      <th>1</th>\n",
       "      <td>2007-2008</td>\n",
       "      <td>Arsenal</td>\n",
       "      <td>3</td>\n",
       "      <td>24.0</td>\n",
       "      <td>3.0</td>\n",
       "      <td>74.0</td>\n",
       "      <td>55.0</td>\n",
       "      <td>3.0</td>\n",
       "      <td>627.0</td>\n",
       "      <td>208.0</td>\n",
       "      <td>...</td>\n",
       "      <td>10</td>\n",
       "      <td>6</td>\n",
       "      <td>37</td>\n",
       "      <td>139</td>\n",
       "      <td>208</td>\n",
       "      <td>97</td>\n",
       "      <td>39</td>\n",
       "      <td>2</td>\n",
       "      <td>2.058947</td>\n",
       "      <td>0.684211</td>\n",
       "    </tr>\n",
       "    <tr>\n",
       "      <th>2</th>\n",
       "      <td>2008-2009</td>\n",
       "      <td>Arsenal</td>\n",
       "      <td>4</td>\n",
       "      <td>20.0</td>\n",
       "      <td>6.0</td>\n",
       "      <td>68.0</td>\n",
       "      <td>58.0</td>\n",
       "      <td>3.0</td>\n",
       "      <td>662.0</td>\n",
       "      <td>220.0</td>\n",
       "      <td>...</td>\n",
       "      <td>9</td>\n",
       "      <td>7</td>\n",
       "      <td>37</td>\n",
       "      <td>140</td>\n",
       "      <td>219</td>\n",
       "      <td>113</td>\n",
       "      <td>35</td>\n",
       "      <td>2</td>\n",
       "      <td>2.437895</td>\n",
       "      <td>0.684211</td>\n",
       "    </tr>\n",
       "    <tr>\n",
       "      <th>3</th>\n",
       "      <td>2009-2010</td>\n",
       "      <td>Arsenal</td>\n",
       "      <td>3</td>\n",
       "      <td>23.0</td>\n",
       "      <td>9.0</td>\n",
       "      <td>83.0</td>\n",
       "      <td>56.0</td>\n",
       "      <td>1.0</td>\n",
       "      <td>660.0</td>\n",
       "      <td>233.0</td>\n",
       "      <td>...</td>\n",
       "      <td>8</td>\n",
       "      <td>4</td>\n",
       "      <td>35</td>\n",
       "      <td>142</td>\n",
       "      <td>226</td>\n",
       "      <td>126</td>\n",
       "      <td>32</td>\n",
       "      <td>0</td>\n",
       "      <td>2.083158</td>\n",
       "      <td>0.894737</td>\n",
       "    </tr>\n",
       "    <tr>\n",
       "      <th>4</th>\n",
       "      <td>2010-2011</td>\n",
       "      <td>Arsenal</td>\n",
       "      <td>4</td>\n",
       "      <td>19.0</td>\n",
       "      <td>8.0</td>\n",
       "      <td>72.0</td>\n",
       "      <td>65.0</td>\n",
       "      <td>6.0</td>\n",
       "      <td>654.0</td>\n",
       "      <td>238.0</td>\n",
       "      <td>...</td>\n",
       "      <td>8</td>\n",
       "      <td>7</td>\n",
       "      <td>39</td>\n",
       "      <td>156</td>\n",
       "      <td>208</td>\n",
       "      <td>114</td>\n",
       "      <td>37</td>\n",
       "      <td>3</td>\n",
       "      <td>2.166316</td>\n",
       "      <td>1.157895</td>\n",
       "    </tr>\n",
       "  </tbody>\n",
       "</table>\n",
       "<p>5 rows × 65 columns</p>\n",
       "</div>"
      ],
      "text/plain": [
       "      season     team  classement  wins  losses  goals  total_yel_card  \\\n",
       "0  2006-2007  Arsenal           4  19.0     8.0   63.0            59.0   \n",
       "1  2007-2008  Arsenal           3  24.0     3.0   74.0            55.0   \n",
       "2  2008-2009  Arsenal           4  20.0     6.0   68.0            58.0   \n",
       "3  2009-2010  Arsenal           3  23.0     9.0   83.0            56.0   \n",
       "4  2010-2011  Arsenal           4  19.0     8.0   72.0            65.0   \n",
       "\n",
       "   total_red_card  total_scoring_att  ontarget_scoring_att    ...     \\\n",
       "0             3.0              638.0                 226.0    ...      \n",
       "1             3.0              627.0                 208.0    ...      \n",
       "2             3.0              662.0                 220.0    ...      \n",
       "3             1.0              660.0                 233.0    ...      \n",
       "4             6.0              654.0                 238.0    ...      \n",
       "\n",
       "   Away_Win  Draw_away  FTAG  AST   AF   AC  AY  AR  away_odd      HTAG  \n",
       "0         7          5    20  105  178  109  32   3  2.194737  0.421053  \n",
       "1        10          6    37  139  208   97  39   2  2.058947  0.684211  \n",
       "2         9          7    37  140  219  113  35   2  2.437895  0.684211  \n",
       "3         8          4    35  142  226  126  32   0  2.083158  0.894737  \n",
       "4         8          7    39  156  208  114  37   3  2.166316  1.157895  \n",
       "\n",
       "[5 rows x 65 columns]"
      ]
     },
     "execution_count": 78,
     "metadata": {},
     "output_type": "execute_result"
    }
   ],
   "source": [
    "sum_stat_merge.head()"
   ]
  },
  {
   "cell_type": "code",
   "execution_count": 79,
   "metadata": {
    "scrolled": true
   },
   "outputs": [
    {
     "data": {
      "text/plain": [
       "Index(['season', 'team', 'classement', 'wins', 'losses', 'goals',\n",
       "       'total_yel_card', 'total_red_card', 'total_scoring_att',\n",
       "       'ontarget_scoring_att', 'hit_woodwork', 'att_hd_goal', 'att_pen_goal',\n",
       "       'att_freekick_goal', 'att_ibox_goal', 'att_obox_goal', 'goal_fastbreak',\n",
       "       'total_offside', 'clean_sheet', 'goals_conceded', 'saves',\n",
       "       'outfielder_block', 'interception', 'total_tackle', 'last_man_tackle',\n",
       "       'total_clearance', 'head_clearance', 'own_goals', 'penalty_conceded',\n",
       "       'pen_goals_conceded', 'total_pass', 'total_through_ball',\n",
       "       'total_long_balls', 'backward_pass', 'total_cross', 'corner_taken',\n",
       "       'touches', 'big_chance_missed', 'clearance_off_line', 'dispossessed',\n",
       "       'penalty_save', 'total_high_claim', 'punches', 'HS', 'Home_Win',\n",
       "       'Draw_at_home', 'FTHG', 'HST', 'HF', 'HC', 'HY', 'HR', 'home_odd',\n",
       "       'HTHG', 'AS', 'Away_Win', 'Draw_away', 'FTAG', 'AST', 'AF', 'AC', 'AY',\n",
       "       'AR', 'away_odd', 'HTAG'],\n",
       "      dtype='object')"
      ]
     },
     "execution_count": 79,
     "metadata": {},
     "output_type": "execute_result"
    }
   ],
   "source": [
    "sum_stat_merge.columns"
   ]
  },
  {
   "cell_type": "markdown",
   "metadata": {},
   "source": [
    "Nous décidons d'effectuer une régression linéaire pour essayer de voir si la cote moyenne de l'année N est influencée par les statistiques de l'année N-1. Pour cela, nous devons créer des variables retardées :  "
   ]
  },
  {
   "cell_type": "code",
   "execution_count": 80,
   "metadata": {},
   "outputs": [],
   "source": [
    "features=['classement', 'wins', 'losses', 'goals',\n",
    "       'total_yel_card', 'total_red_card', 'total_scoring_att',\n",
    "       'ontarget_scoring_att', 'hit_woodwork', 'att_hd_goal', 'att_pen_goal',\n",
    "       'att_freekick_goal', 'att_ibox_goal', 'att_obox_goal', 'goal_fastbreak',\n",
    "       'total_offside', 'clean_sheet', 'goals_conceded',\n",
    "       'outfielder_block', 'interception', 'total_tackle', 'last_man_tackle',\n",
    "       'total_clearance', 'own_goals', 'penalty_conceded',\n",
    "       'pen_goals_conceded', 'total_pass',\n",
    "       'total_long_balls', 'total_cross', 'corner_taken',\n",
    "       'touches', 'clearance_off_line', 'dispossessed',\n",
    "       'penalty_save', 'total_high_claim', 'punches', 'HS', 'Home_Win',\n",
    "       'Draw_at_home', 'FTHG', 'HST', 'HF', 'HC', 'HY', 'HR', 'home_odd',\n",
    "       'HTHG', 'AS', 'Away_Win', 'Draw_away', 'FTAG', 'AST', 'AF', 'AC', 'AY',\n",
    "       'AR', 'away_odd', 'HTAG']\n",
    "for f in features:\n",
    "    sum_stat_merge[f + '_lag']=sum_stat_merge.groupby('team')[f].shift(1)"
   ]
  },
  {
   "cell_type": "markdown",
   "metadata": {},
   "source": [
    "Nous enlevons les valeurs manquantes afin qu'elles ne soient pas prises en compte. "
   ]
  },
  {
   "cell_type": "code",
   "execution_count": 81,
   "metadata": {},
   "outputs": [],
   "source": [
    "sum_stat_merge.dropna(axis=0, inplace=True)"
   ]
  },
  {
   "cell_type": "markdown",
   "metadata": {},
   "source": [
    "Nous ne gardons que les variables qui nous intéressent. "
   ]
  },
  {
   "cell_type": "code",
   "execution_count": 82,
   "metadata": {},
   "outputs": [],
   "source": [
    "df_model = sum_stat_merge[['classement_lag', 'wins_lag', 'losses_lag', 'goals_lag',\n",
    "       'total_yel_card_lag', 'total_red_card_lag', 'total_scoring_att_lag',\n",
    "       'ontarget_scoring_att_lag', 'hit_woodwork_lag', 'att_hd_goal_lag', 'att_pen_goal_lag',\n",
    "       'att_freekick_goal_lag', 'att_ibox_goal_lag', 'att_obox_goal_lag', 'goal_fastbreak_lag',\n",
    "       'total_offside_lag', 'clean_sheet_lag', 'goals_conceded_lag',\n",
    "       'outfielder_block_lag', 'interception_lag', 'total_tackle_lag', 'last_man_tackle_lag',\n",
    "       'total_clearance_lag', 'own_goals_lag', 'penalty_conceded_lag',\n",
    "       'pen_goals_conceded_lag', 'total_pass_lag',\n",
    "       'total_long_balls_lag', 'total_cross_lag', 'corner_taken_lag',\n",
    "       'touches_lag', 'clearance_off_line_lag', 'dispossessed_lag',\n",
    "       'penalty_save_lag', 'total_high_claim_lag', 'punches_lag', 'HS_lag', 'Home_Win_lag',\n",
    "       'Draw_at_home_lag', 'FTHG_lag', 'HST_lag', 'HF_lag', 'HC_lag', 'HY_lag', 'HR_lag', 'home_odd_lag',\n",
    "       'HTHG_lag', 'AS_lag', 'Away_Win_lag', 'Draw_away_lag', 'FTAG_lag', 'AST_lag', 'AF_lag','AC_lag', 'AY_lag',\n",
    "       'AR_lag', 'away_odd_lag', 'HTAG_lag','home_odd']]"
   ]
  },
  {
   "cell_type": "markdown",
   "metadata": {},
   "source": [
    "Nous séparons le dataset en un échantillon d'apprentissage et un autre où nous testerons le modèle. "
   ]
  },
  {
   "cell_type": "code",
   "execution_count": 125,
   "metadata": {},
   "outputs": [],
   "source": [
    "from sklearn.model_selection import train_test_split"
   ]
  },
  {
   "cell_type": "code",
   "execution_count": 83,
   "metadata": {},
   "outputs": [],
   "source": [
    "X = sum_stat_merge[['classement_lag', 'wins_lag', 'losses_lag', 'goals_lag',\n",
    "       'total_yel_card_lag', 'total_red_card_lag', 'total_scoring_att_lag',\n",
    "       'ontarget_scoring_att_lag', 'hit_woodwork_lag', 'att_hd_goal_lag', 'att_pen_goal_lag',\n",
    "       'att_freekick_goal_lag', 'att_ibox_goal_lag', 'att_obox_goal_lag', 'goal_fastbreak_lag',\n",
    "       'total_offside_lag', 'clean_sheet_lag', 'goals_conceded_lag',\n",
    "       'outfielder_block_lag', 'interception_lag', 'total_tackle_lag', 'last_man_tackle_lag',\n",
    "       'total_clearance_lag', 'own_goals_lag', 'penalty_conceded_lag',\n",
    "       'pen_goals_conceded_lag', 'total_pass_lag',\n",
    "       'total_long_balls_lag', 'total_cross_lag', 'corner_taken_lag',\n",
    "       'touches_lag', 'clearance_off_line_lag', 'dispossessed_lag',\n",
    "       'penalty_save_lag', 'total_high_claim_lag', 'punches_lag', 'HS_lag', 'Home_Win_lag',\n",
    "       'Draw_at_home_lag', 'FTHG_lag', 'HST_lag', 'HF_lag', 'HC_lag', 'HY_lag', 'HR_lag', 'home_odd_lag',\n",
    "       'HTHG_lag', 'AS_lag', 'Away_Win_lag', 'Draw_away_lag', 'FTAG_lag', 'AST_lag', 'AF_lag','AC_lag', 'AY_lag',\n",
    "       'AR_lag', 'away_odd_lag', 'HTAG_lag']]\n",
    "y = sum_stat_merge['home_odd']"
   ]
  },
  {
   "cell_type": "code",
   "execution_count": 84,
   "metadata": {},
   "outputs": [],
   "source": [
    "X_train, X_test, y_train, y_test = train_test_split(X, y, test_size=0.3, random_state=42)"
   ]
  },
  {
   "cell_type": "code",
   "execution_count": 85,
   "metadata": {
    "scrolled": true
   },
   "outputs": [
    {
     "name": "stdout",
     "output_type": "stream",
     "text": [
      "                            OLS Regression Results                            \n",
      "==============================================================================\n",
      "Dep. Variable:               home_odd   R-squared:                       0.928\n",
      "Model:                            OLS   Adj. R-squared:                  0.820\n",
      "Method:                 Least Squares   F-statistic:                     8.616\n",
      "Date:                Sat, 30 Mar 2019   Prob (F-statistic):           4.28e-10\n",
      "Time:                        00:01:40   Log-Likelihood:                 1.6661\n",
      "No. Observations:                  91   AIC:                             106.7\n",
      "Df Residuals:                      36   BIC:                             244.8\n",
      "Df Model:                          54                                         \n",
      "Covariance Type:            nonrobust                                         \n",
      "============================================================================================\n",
      "                               coef    std err          t      P>|t|      [0.025      0.975]\n",
      "--------------------------------------------------------------------------------------------\n",
      "classement_lag               0.1179      0.038      3.105      0.004       0.041       0.195\n",
      "wins_lag                     0.0648      0.049      1.316      0.196      -0.035       0.165\n",
      "losses_lag                   0.0846      0.085      1.001      0.323      -0.087       0.256\n",
      "goals_lag                   -0.0076      0.010     -0.750      0.458      -0.028       0.013\n",
      "total_yel_card_lag           0.0646      0.063      1.027      0.311      -0.063       0.192\n",
      "total_red_card_lag          -0.5440      0.295     -1.842      0.074      -1.143       0.055\n",
      "total_scoring_att_lag       -0.0104      0.005     -2.170      0.037      -0.020      -0.001\n",
      "ontarget_scoring_att_lag     0.0016      0.007      0.244      0.809      -0.012       0.015\n",
      "hit_woodwork_lag            -0.0236      0.015     -1.538      0.133      -0.055       0.008\n",
      "att_hd_goal_lag              0.0066      0.021      0.319      0.752      -0.035       0.049\n",
      "att_pen_goal_lag             0.0472      0.036      1.315      0.197      -0.026       0.120\n",
      "att_freekick_goal_lag        0.0969      0.048      2.023      0.051      -0.000       0.194\n",
      "att_ibox_goal_lag            0.0132      0.010      1.346      0.187      -0.007       0.033\n",
      "att_obox_goal_lag           -0.0208      0.015     -1.344      0.187      -0.052       0.011\n",
      "goal_fastbreak_lag           0.0331      0.039      0.845      0.404      -0.046       0.113\n",
      "total_offside_lag           -0.0009      0.004     -0.233      0.817      -0.009       0.007\n",
      "clean_sheet_lag              0.0093      0.031      0.299      0.767      -0.054       0.072\n",
      "goals_conceded_lag           0.0090      0.016      0.566      0.575      -0.023       0.041\n",
      "outfielder_block_lag         0.0015      0.003      0.516      0.609      -0.005       0.008\n",
      "interception_lag             0.0006      0.001      0.745      0.461      -0.001       0.002\n",
      "total_tackle_lag            -0.0014      0.001     -1.222      0.230      -0.004       0.001\n",
      "last_man_tackle_lag          0.0057      0.014      0.413      0.682      -0.022       0.033\n",
      "total_clearance_lag         -0.0005      0.000     -1.165      0.252      -0.001       0.000\n",
      "own_goals_lag               -0.0088      0.041     -0.214      0.832      -0.092       0.075\n",
      "penalty_conceded_lag        -0.0867      0.144     -0.601      0.552      -0.379       0.206\n",
      "pen_goals_conceded_lag       0.0535      0.165      0.324      0.748      -0.281       0.388\n",
      "total_pass_lag            8.656e-05      0.000      0.485      0.630      -0.000       0.000\n",
      "total_long_balls_lag      7.396e-05      0.000      0.322      0.749      -0.000       0.001\n",
      "total_cross_lag              0.0001      0.001      0.159      0.875      -0.002       0.002\n",
      "corner_taken_lag            -0.0032      0.032     -0.100      0.921      -0.068       0.062\n",
      "touches_lag                 -0.0002      0.000     -0.932      0.358      -0.001       0.000\n",
      "clearance_off_line_lag       0.0419      0.030      1.412      0.167      -0.018       0.102\n",
      "dispossessed_lag            -0.0003      0.001     -0.249      0.805      -0.002       0.002\n",
      "penalty_save_lag             0.0723      0.155      0.466      0.644      -0.242       0.387\n",
      "total_high_claim_lag         0.0032      0.004      0.889      0.380      -0.004       0.011\n",
      "punches_lag                  0.0055      0.007      0.805      0.426      -0.008       0.019\n",
      "HS_lag                       0.0082      0.004      2.002      0.053      -0.000       0.016\n",
      "Home_Win_lag                 0.0699      0.036      1.954      0.058      -0.003       0.142\n",
      "Draw_at_home_lag             0.1518      0.077      1.976      0.056      -0.004       0.308\n",
      "FTHG_lag                    -0.0240      0.015     -1.598      0.119      -0.054       0.006\n",
      "HST_lag                      0.0057      0.006      0.961      0.343      -0.006       0.018\n",
      "HF_lag                      -0.0010      0.004     -0.260      0.797      -0.008       0.007\n",
      "HC_lag                       0.0047      0.032      0.145      0.886      -0.061       0.070\n",
      "HY_lag                      -0.0721      0.062     -1.156      0.255      -0.199       0.054\n",
      "HR_lag                       0.5897      0.284      2.076      0.045       0.014       1.166\n",
      "home_odd_lag                -0.0087      0.527     -0.017      0.987      -1.078       1.061\n",
      "HTHG_lag                     0.5714      0.514      1.111      0.274      -0.472       1.614\n",
      "AS_lag                       0.0091      0.006      1.404      0.169      -0.004       0.022\n",
      "Away_Win_lag                -0.0050      0.042     -0.119      0.906      -0.091       0.081\n",
      "Draw_away_lag                0.0545      0.076      0.712      0.481      -0.101       0.210\n",
      "FTAG_lag                     0.0165      0.017      0.984      0.332      -0.017       0.050\n",
      "AST_lag                      0.0026      0.007      0.391      0.698      -0.011       0.016\n",
      "AF_lag                       0.0046      0.004      1.127      0.267      -0.004       0.013\n",
      "AC_lag                      -0.0002      0.031     -0.005      0.996      -0.063       0.063\n",
      "AY_lag                      -0.0678      0.063     -1.076      0.289      -0.196       0.060\n",
      "AR_lag                       0.5395      0.295      1.830      0.075      -0.058       1.137\n",
      "away_odd_lag                 0.0393      0.198      0.199      0.844      -0.361       0.440\n",
      "HTAG_lag                    -0.5478      0.614     -0.893      0.378      -1.792       0.697\n",
      "==============================================================================\n",
      "Omnibus:                        3.439   Durbin-Watson:                   2.233\n",
      "Prob(Omnibus):                  0.179   Jarque-Bera (JB):                2.761\n",
      "Skew:                           0.324   Prob(JB):                        0.251\n",
      "Kurtosis:                       3.555   Cond. No.                     1.21e+16\n",
      "==============================================================================\n",
      "\n",
      "Warnings:\n",
      "[1] Standard Errors assume that the covariance matrix of the errors is correctly specified.\n",
      "[2] The smallest eigenvalue is 5.47e-22. This might indicate that there are\n",
      "strong multicollinearity problems or that the design matrix is singular.\n"
     ]
    }
   ],
   "source": [
    "est = sm.OLS(y_train, X_train)\n",
    "est2 = est.fit()\n",
    "print(est2.summary())"
   ]
  },
  {
   "cell_type": "markdown",
   "metadata": {},
   "source": [
    "Nous avons inclu dans ce modèle l'ensemble des variables présentes dans la table. Nous voyons que le R² est à 0.93 ce qui peut paraitre très bon. Toutefois, le modèle ici présent est loin d'être optimal puisqu'énormément de variables ne sont pas significaitves et que nous avons un probèle de multicolinéarité. \n",
    "\n",
    "Nous recommençons la même démarche en intégrant dans le modèle uniquement les variables qui étaient significatives précédemment. "
   ]
  },
  {
   "cell_type": "code",
   "execution_count": 86,
   "metadata": {},
   "outputs": [],
   "source": [
    "X = sum_stat_merge[['HR_lag','Draw_at_home_lag','Home_Win_lag',\n",
    "'HS_lag','att_freekick_goal_lag','total_red_card_lag',\n",
    "'total_scoring_att_lag',\n",
    "'classement_lag']]\n",
    "y = sum_stat_merge['home_odd']"
   ]
  },
  {
   "cell_type": "code",
   "execution_count": 87,
   "metadata": {},
   "outputs": [],
   "source": [
    "X_train, X_test, y_train, y_test = train_test_split(X, y, test_size=0.3, random_state=42)"
   ]
  },
  {
   "cell_type": "code",
   "execution_count": 89,
   "metadata": {
    "scrolled": true
   },
   "outputs": [
    {
     "name": "stdout",
     "output_type": "stream",
     "text": [
      "                            OLS Regression Results                            \n",
      "==============================================================================\n",
      "Dep. Variable:               home_odd   R-squared:                       0.975\n",
      "Model:                            OLS   Adj. R-squared:                  0.973\n",
      "Method:                 Least Squares   F-statistic:                     409.5\n",
      "Date:                Sat, 30 Mar 2019   Prob (F-statistic):           2.57e-63\n",
      "Time:                        00:02:08   Log-Likelihood:                -54.422\n",
      "No. Observations:                  91   AIC:                             124.8\n",
      "Df Residuals:                      83   BIC:                             144.9\n",
      "Df Model:                           8                                         \n",
      "Covariance Type:            nonrobust                                         \n",
      "=========================================================================================\n",
      "                            coef    std err          t      P>|t|      [0.025      0.975]\n",
      "-----------------------------------------------------------------------------------------\n",
      "HR_lag                    0.1431      0.066      2.177      0.032       0.012       0.274\n",
      "Draw_at_home_lag          0.1122      0.027      4.224      0.000       0.059       0.165\n",
      "Home_Win_lag              0.1206      0.026      4.560      0.000       0.068       0.173\n",
      "HS_lag                    0.0047      0.002      2.298      0.024       0.001       0.009\n",
      "att_freekick_goal_lag     0.0538      0.038      1.415      0.161      -0.022       0.129\n",
      "total_red_card_lag       -0.0105      0.034     -0.309      0.758      -0.078       0.057\n",
      "total_scoring_att_lag    -0.0041      0.001     -3.297      0.001      -0.007      -0.002\n",
      "classement_lag            0.1763      0.011     15.922      0.000       0.154       0.198\n",
      "==============================================================================\n",
      "Omnibus:                        2.805   Durbin-Watson:                   1.885\n",
      "Prob(Omnibus):                  0.246   Jarque-Bera (JB):                2.158\n",
      "Skew:                           0.345   Prob(JB):                        0.340\n",
      "Kurtosis:                       3.307   Cond. No.                         873.\n",
      "==============================================================================\n",
      "\n",
      "Warnings:\n",
      "[1] Standard Errors assume that the covariance matrix of the errors is correctly specified.\n"
     ]
    }
   ],
   "source": [
    "est = sm.OLS(y_train, X_train)\n",
    "est3 = est.fit()\n",
    "print(est3.summary())"
   ]
  },
  {
   "cell_type": "markdown",
   "metadata": {},
   "source": [
    "Nous n'avons plus de problème de colinéarité et le R² a même augmenté. \n",
    "Néanmoins, du fait de la spécificité des variables que nous avons ici. Il se pourrait que d'autres modèles soient plus performants et mettent en lumière plus de relations entre nos variables. "
   ]
  },
  {
   "cell_type": "code",
   "execution_count": 90,
   "metadata": {},
   "outputs": [],
   "source": [
    "est_df = pd.DataFrame()\n",
    "est_df['True Y'] = y_test"
   ]
  },
  {
   "cell_type": "code",
   "execution_count": 91,
   "metadata": {},
   "outputs": [],
   "source": [
    "est_df['Predicted Y'] = est3.predict(X_test)"
   ]
  },
  {
   "cell_type": "code",
   "execution_count": 92,
   "metadata": {},
   "outputs": [],
   "source": [
    "est_df['Diff'] = (est_df['True Y'] - est_df['Predicted Y'])"
   ]
  },
  {
   "cell_type": "code",
   "execution_count": 93,
   "metadata": {},
   "outputs": [],
   "source": [
    "def rmse(predictions, targets):\n",
    "    return np.sqrt(((predictions - targets) ** 2).mean())"
   ]
  },
  {
   "cell_type": "code",
   "execution_count": 94,
   "metadata": {},
   "outputs": [
    {
     "data": {
      "text/html": [
       "<div>\n",
       "<style scoped>\n",
       "    .dataframe tbody tr th:only-of-type {\n",
       "        vertical-align: middle;\n",
       "    }\n",
       "\n",
       "    .dataframe tbody tr th {\n",
       "        vertical-align: top;\n",
       "    }\n",
       "\n",
       "    .dataframe thead th {\n",
       "        text-align: right;\n",
       "    }\n",
       "</style>\n",
       "<table border=\"1\" class=\"dataframe\">\n",
       "  <thead>\n",
       "    <tr style=\"text-align: right;\">\n",
       "      <th></th>\n",
       "      <th>True Y</th>\n",
       "      <th>Predicted Y</th>\n",
       "      <th>Diff</th>\n",
       "    </tr>\n",
       "  </thead>\n",
       "  <tbody>\n",
       "    <tr>\n",
       "      <th>103</th>\n",
       "      <td>1.413158</td>\n",
       "      <td>2.014826</td>\n",
       "      <td>-0.601669</td>\n",
       "    </tr>\n",
       "    <tr>\n",
       "      <th>77</th>\n",
       "      <td>2.764211</td>\n",
       "      <td>2.684538</td>\n",
       "      <td>0.079672</td>\n",
       "    </tr>\n",
       "    <tr>\n",
       "      <th>40</th>\n",
       "      <td>3.976842</td>\n",
       "      <td>3.816267</td>\n",
       "      <td>0.160575</td>\n",
       "    </tr>\n",
       "    <tr>\n",
       "      <th>64</th>\n",
       "      <td>2.074211</td>\n",
       "      <td>2.620113</td>\n",
       "      <td>-0.545902</td>\n",
       "    </tr>\n",
       "    <tr>\n",
       "      <th>196</th>\n",
       "      <td>3.188947</td>\n",
       "      <td>2.245889</td>\n",
       "      <td>0.943058</td>\n",
       "    </tr>\n",
       "  </tbody>\n",
       "</table>\n",
       "</div>"
      ],
      "text/plain": [
       "       True Y  Predicted Y      Diff\n",
       "103  1.413158     2.014826 -0.601669\n",
       "77   2.764211     2.684538  0.079672\n",
       "40   3.976842     3.816267  0.160575\n",
       "64   2.074211     2.620113 -0.545902\n",
       "196  3.188947     2.245889  0.943058"
      ]
     },
     "execution_count": 94,
     "metadata": {},
     "output_type": "execute_result"
    }
   ],
   "source": [
    "est_df.head()"
   ]
  },
  {
   "cell_type": "code",
   "execution_count": 95,
   "metadata": {},
   "outputs": [
    {
     "data": {
      "text/plain": [
       "0.6270259411378682"
      ]
     },
     "execution_count": 95,
     "metadata": {},
     "output_type": "execute_result"
    }
   ],
   "source": [
    "rmse(est_df['Predicted Y'],est_df['True Y'])"
   ]
  },
  {
   "cell_type": "code",
   "execution_count": 96,
   "metadata": {},
   "outputs": [
    {
     "data": {
      "text/plain": [
       "<matplotlib.axes._subplots.AxesSubplot at 0x1753e8074e0>"
      ]
     },
     "execution_count": 96,
     "metadata": {},
     "output_type": "execute_result"
    },
    {
     "data": {
      "image/png": "[encoded data removed]",
      "text/plain": [
       "<Figure size 432x288 with 1 Axes>"
      ]
     },
     "metadata": {},
     "output_type": "display_data"
    }
   ],
   "source": [
    "est_df['Diff'].plot(kind='hist')"
   ]
  },
  {
   "cell_type": "markdown",
   "metadata": {},
   "source": [
    "Nous nous sommes ensuite interessées à la probabilité que l'équipe à domicile gagne le match. \n",
    "Pour ce faire, nous avons utilisé la Régression Logistique. "
   ]
  },
  {
   "cell_type": "code",
   "execution_count": 97,
   "metadata": {},
   "outputs": [],
   "source": [
    "from sklearn.linear_model import LogisticRegression\n",
    "from sklearn import metrics\n",
    "from sklearn.metrics import classification_report, confusion_matrix  \n",
    "\n",
    "from sklearn.metrics import roc_auc_score\n",
    "from sklearn.metrics import roc_curve"
   ]
  },
  {
   "cell_type": "code",
   "execution_count": 98,
   "metadata": {},
   "outputs": [
    {
     "data": {
      "text/html": [
       "<div>\n",
       "<style scoped>\n",
       "    .dataframe tbody tr th:only-of-type {\n",
       "        vertical-align: middle;\n",
       "    }\n",
       "\n",
       "    .dataframe tbody tr th {\n",
       "        vertical-align: top;\n",
       "    }\n",
       "\n",
       "    .dataframe thead th {\n",
       "        text-align: right;\n",
       "    }\n",
       "</style>\n",
       "<table border=\"1\" class=\"dataframe\">\n",
       "  <thead>\n",
       "    <tr style=\"text-align: right;\">\n",
       "      <th></th>\n",
       "      <th>Date</th>\n",
       "      <th>HomeTeam</th>\n",
       "      <th>AwayTeam</th>\n",
       "      <th>FTHG</th>\n",
       "      <th>FTAG</th>\n",
       "      <th>FTR</th>\n",
       "      <th>HTHG</th>\n",
       "      <th>HTAG</th>\n",
       "      <th>HTR</th>\n",
       "      <th>Referee</th>\n",
       "      <th>...</th>\n",
       "      <th>BbAvA</th>\n",
       "      <th>BbMx&gt;2.5</th>\n",
       "      <th>BbAv&gt;2.5</th>\n",
       "      <th>BbMx&lt;2.5</th>\n",
       "      <th>BbAv&lt;2.5</th>\n",
       "      <th>season</th>\n",
       "      <th>compar</th>\n",
       "      <th>Home_Win</th>\n",
       "      <th>Away_Win</th>\n",
       "      <th>Draw</th>\n",
       "    </tr>\n",
       "  </thead>\n",
       "  <tbody>\n",
       "    <tr>\n",
       "      <th>0</th>\n",
       "      <td>19/08/2006</td>\n",
       "      <td>Arsenal</td>\n",
       "      <td>Aston Villa</td>\n",
       "      <td>1</td>\n",
       "      <td>1</td>\n",
       "      <td>D</td>\n",
       "      <td>0</td>\n",
       "      <td>0</td>\n",
       "      <td>D</td>\n",
       "      <td>G Poll</td>\n",
       "      <td>...</td>\n",
       "      <td>10.72</td>\n",
       "      <td>1.83</td>\n",
       "      <td>1.75</td>\n",
       "      <td>2.12</td>\n",
       "      <td>2.01</td>\n",
       "      <td>2006-2007</td>\n",
       "      <td>True</td>\n",
       "      <td>0</td>\n",
       "      <td>0</td>\n",
       "      <td>1</td>\n",
       "    </tr>\n",
       "    <tr>\n",
       "      <th>1</th>\n",
       "      <td>19/08/2006</td>\n",
       "      <td>Bolton</td>\n",
       "      <td>Tottenham</td>\n",
       "      <td>2</td>\n",
       "      <td>0</td>\n",
       "      <td>H</td>\n",
       "      <td>2</td>\n",
       "      <td>0</td>\n",
       "      <td>H</td>\n",
       "      <td>P Dowd</td>\n",
       "      <td>...</td>\n",
       "      <td>2.53</td>\n",
       "      <td>2.30</td>\n",
       "      <td>2.17</td>\n",
       "      <td>1.75</td>\n",
       "      <td>1.63</td>\n",
       "      <td>2006-2007</td>\n",
       "      <td>True</td>\n",
       "      <td>1</td>\n",
       "      <td>0</td>\n",
       "      <td>0</td>\n",
       "    </tr>\n",
       "    <tr>\n",
       "      <th>2</th>\n",
       "      <td>19/08/2006</td>\n",
       "      <td>Everton</td>\n",
       "      <td>Watford</td>\n",
       "      <td>2</td>\n",
       "      <td>1</td>\n",
       "      <td>H</td>\n",
       "      <td>1</td>\n",
       "      <td>0</td>\n",
       "      <td>H</td>\n",
       "      <td>P Walton</td>\n",
       "      <td>...</td>\n",
       "      <td>5.35</td>\n",
       "      <td>2.20</td>\n",
       "      <td>2.07</td>\n",
       "      <td>1.76</td>\n",
       "      <td>1.69</td>\n",
       "      <td>2006-2007</td>\n",
       "      <td>True</td>\n",
       "      <td>1</td>\n",
       "      <td>0</td>\n",
       "      <td>0</td>\n",
       "    </tr>\n",
       "    <tr>\n",
       "      <th>3</th>\n",
       "      <td>19/08/2006</td>\n",
       "      <td>Newcastle</td>\n",
       "      <td>Wigan</td>\n",
       "      <td>2</td>\n",
       "      <td>1</td>\n",
       "      <td>H</td>\n",
       "      <td>1</td>\n",
       "      <td>0</td>\n",
       "      <td>H</td>\n",
       "      <td>M Atkinson</td>\n",
       "      <td>...</td>\n",
       "      <td>4.72</td>\n",
       "      <td>2.25</td>\n",
       "      <td>2.12</td>\n",
       "      <td>1.75</td>\n",
       "      <td>1.66</td>\n",
       "      <td>2006-2007</td>\n",
       "      <td>True</td>\n",
       "      <td>1</td>\n",
       "      <td>0</td>\n",
       "      <td>0</td>\n",
       "    </tr>\n",
       "    <tr>\n",
       "      <th>4</th>\n",
       "      <td>19/08/2006</td>\n",
       "      <td>Portsmouth</td>\n",
       "      <td>Blackburn</td>\n",
       "      <td>3</td>\n",
       "      <td>0</td>\n",
       "      <td>H</td>\n",
       "      <td>1</td>\n",
       "      <td>0</td>\n",
       "      <td>H</td>\n",
       "      <td>A Wiley</td>\n",
       "      <td>...</td>\n",
       "      <td>2.83</td>\n",
       "      <td>2.26</td>\n",
       "      <td>2.15</td>\n",
       "      <td>1.69</td>\n",
       "      <td>1.64</td>\n",
       "      <td>2006-2007</td>\n",
       "      <td>True</td>\n",
       "      <td>1</td>\n",
       "      <td>0</td>\n",
       "      <td>0</td>\n",
       "    </tr>\n",
       "  </tbody>\n",
       "</table>\n",
       "<p>5 rows × 40 columns</p>\n",
       "</div>"
      ],
      "text/plain": [
       "         Date    HomeTeam     AwayTeam  FTHG  FTAG FTR  HTHG  HTAG HTR  \\\n",
       "0  19/08/2006     Arsenal  Aston Villa     1     1   D     0     0   D   \n",
       "1  19/08/2006      Bolton    Tottenham     2     0   H     2     0   H   \n",
       "2  19/08/2006     Everton      Watford     2     1   H     1     0   H   \n",
       "3  19/08/2006   Newcastle        Wigan     2     1   H     1     0   H   \n",
       "4  19/08/2006  Portsmouth    Blackburn     3     0   H     1     0   H   \n",
       "\n",
       "      Referee  ...   BbAvA  BbMx>2.5  BbAv>2.5  BbMx<2.5  BbAv<2.5     season  \\\n",
       "0      G Poll  ...   10.72      1.83      1.75      2.12      2.01  2006-2007   \n",
       "1      P Dowd  ...    2.53      2.30      2.17      1.75      1.63  2006-2007   \n",
       "2    P Walton  ...    5.35      2.20      2.07      1.76      1.69  2006-2007   \n",
       "3  M Atkinson  ...    4.72      2.25      2.12      1.75      1.66  2006-2007   \n",
       "4     A Wiley  ...    2.83      2.26      2.15      1.69      1.64  2006-2007   \n",
       "\n",
       "   compar  Home_Win  Away_Win  Draw  \n",
       "0    True         0         0     1  \n",
       "1    True         1         0     0  \n",
       "2    True         1         0     0  \n",
       "3    True         1         0     0  \n",
       "4    True         1         0     0  \n",
       "\n",
       "[5 rows x 40 columns]"
      ]
     },
     "execution_count": 98,
     "metadata": {},
     "output_type": "execute_result"
    }
   ],
   "source": [
    "df.head()"
   ]
  },
  {
   "cell_type": "markdown",
   "metadata": {},
   "source": [
    "Nous avons créé ici notre variable dépendante dichotomique et nous effectuons quelques statistiques descriptives. "
   ]
  },
  {
   "cell_type": "code",
   "execution_count": 101,
   "metadata": {},
   "outputs": [
    {
     "data": {
      "text/plain": [
       "0    2245\n",
       "1    1935\n",
       "Name: Home_Win, dtype: int64"
      ]
     },
     "execution_count": 101,
     "metadata": {},
     "output_type": "execute_result"
    }
   ],
   "source": [
    "df['Home_Win'].value_counts()"
   ]
  },
  {
   "cell_type": "code",
   "execution_count": 102,
   "metadata": {},
   "outputs": [
    {
     "data": {
      "image/png": "[encoded data removed]",
      "text/plain": [
       "<Figure size 432x288 with 1 Axes>"
      ]
     },
     "metadata": {},
     "output_type": "display_data"
    }
   ],
   "source": [
    "sns.countplot(x='Home_Win', data=df, palette='hls')\n",
    "plt.show()"
   ]
  },
  {
   "cell_type": "code",
   "execution_count": 103,
   "metadata": {},
   "outputs": [
    {
     "name": "stdout",
     "output_type": "stream",
     "text": [
      "Pourcentage de matchs gagnés par l'équipe à domicile 46.291866028708135\n",
      "Pourcentage de matchs perdus par l'équipe à domicile 53.70813397129187\n"
     ]
    }
   ],
   "source": [
    "count_loss = len(df[df['Home_Win']==0])\n",
    "count_win = len(df[df['Home_Win']==1])\n",
    "pct_of_win = (count_win/(count_win+count_loss))*100\n",
    "print(\"Pourcentage de matchs gagnés par l'équipe à domicile\", pct_of_win)\n",
    "pct_of_loss = (count_loss/(count_win+count_loss))*100\n",
    "print(\"Pourcentage de matchs perdus par l'équipe à domicile\", pct_of_loss)"
   ]
  },
  {
   "cell_type": "code",
   "execution_count": 104,
   "metadata": {},
   "outputs": [
    {
     "data": {
      "text/html": [
       "<div>\n",
       "<style scoped>\n",
       "    .dataframe tbody tr th:only-of-type {\n",
       "        vertical-align: middle;\n",
       "    }\n",
       "\n",
       "    .dataframe tbody tr th {\n",
       "        vertical-align: top;\n",
       "    }\n",
       "\n",
       "    .dataframe thead th {\n",
       "        text-align: right;\n",
       "    }\n",
       "</style>\n",
       "<table border=\"1\" class=\"dataframe\">\n",
       "  <thead>\n",
       "    <tr style=\"text-align: right;\">\n",
       "      <th></th>\n",
       "      <th>FTHG</th>\n",
       "      <th>FTAG</th>\n",
       "      <th>HTHG</th>\n",
       "      <th>HTAG</th>\n",
       "      <th>HS</th>\n",
       "      <th>AS</th>\n",
       "      <th>HST</th>\n",
       "      <th>AST</th>\n",
       "      <th>HC</th>\n",
       "      <th>AC</th>\n",
       "      <th>...</th>\n",
       "      <th>BbMxD</th>\n",
       "      <th>BbAvD</th>\n",
       "      <th>BbMxA</th>\n",
       "      <th>BbAvA</th>\n",
       "      <th>BbMx&gt;2.5</th>\n",
       "      <th>BbAv&gt;2.5</th>\n",
       "      <th>BbMx&lt;2.5</th>\n",
       "      <th>BbAv&lt;2.5</th>\n",
       "      <th>Away_Win</th>\n",
       "      <th>Draw</th>\n",
       "    </tr>\n",
       "    <tr>\n",
       "      <th>Home_Win</th>\n",
       "      <th></th>\n",
       "      <th></th>\n",
       "      <th></th>\n",
       "      <th></th>\n",
       "      <th></th>\n",
       "      <th></th>\n",
       "      <th></th>\n",
       "      <th></th>\n",
       "      <th></th>\n",
       "      <th></th>\n",
       "      <th></th>\n",
       "      <th></th>\n",
       "      <th></th>\n",
       "      <th></th>\n",
       "      <th></th>\n",
       "      <th></th>\n",
       "      <th></th>\n",
       "      <th></th>\n",
       "      <th></th>\n",
       "      <th></th>\n",
       "      <th></th>\n",
       "    </tr>\n",
       "  </thead>\n",
       "  <tbody>\n",
       "    <tr>\n",
       "      <th>0</th>\n",
       "      <td>0.774610</td>\n",
       "      <td>1.673051</td>\n",
       "      <td>0.345212</td>\n",
       "      <td>0.722494</td>\n",
       "      <td>12.930958</td>\n",
       "      <td>11.865033</td>\n",
       "      <td>5.583519</td>\n",
       "      <td>5.740757</td>\n",
       "      <td>6.066815</td>\n",
       "      <td>4.930512</td>\n",
       "      <td>...</td>\n",
       "      <td>3.870428</td>\n",
       "      <td>3.628379</td>\n",
       "      <td>3.935145</td>\n",
       "      <td>3.549167</td>\n",
       "      <td>2.031613</td>\n",
       "      <td>1.927742</td>\n",
       "      <td>1.975501</td>\n",
       "      <td>1.877572</td>\n",
       "      <td>0.525612</td>\n",
       "      <td>0.474388</td>\n",
       "    </tr>\n",
       "    <tr>\n",
       "      <th>1</th>\n",
       "      <td>2.437209</td>\n",
       "      <td>0.530233</td>\n",
       "      <td>1.084755</td>\n",
       "      <td>0.231008</td>\n",
       "      <td>15.142636</td>\n",
       "      <td>9.969509</td>\n",
       "      <td>7.621705</td>\n",
       "      <td>4.333333</td>\n",
       "      <td>6.256331</td>\n",
       "      <td>4.731266</td>\n",
       "      <td>...</td>\n",
       "      <td>4.384630</td>\n",
       "      <td>4.042563</td>\n",
       "      <td>7.024031</td>\n",
       "      <td>5.995649</td>\n",
       "      <td>1.966057</td>\n",
       "      <td>1.868377</td>\n",
       "      <td>2.075318</td>\n",
       "      <td>1.962951</td>\n",
       "      <td>0.000000</td>\n",
       "      <td>0.000000</td>\n",
       "    </tr>\n",
       "  </tbody>\n",
       "</table>\n",
       "<p>2 rows × 31 columns</p>\n",
       "</div>"
      ],
      "text/plain": [
       "              FTHG      FTAG      HTHG      HTAG         HS         AS  \\\n",
       "Home_Win                                                                 \n",
       "0         0.774610  1.673051  0.345212  0.722494  12.930958  11.865033   \n",
       "1         2.437209  0.530233  1.084755  0.231008  15.142636   9.969509   \n",
       "\n",
       "               HST       AST        HC        AC    ...        BbMxD  \\\n",
       "Home_Win                                            ...                \n",
       "0         5.583519  5.740757  6.066815  4.930512    ...     3.870428   \n",
       "1         7.621705  4.333333  6.256331  4.731266    ...     4.384630   \n",
       "\n",
       "             BbAvD     BbMxA     BbAvA  BbMx>2.5  BbAv>2.5  BbMx<2.5  \\\n",
       "Home_Win                                                               \n",
       "0         3.628379  3.935145  3.549167  2.031613  1.927742  1.975501   \n",
       "1         4.042563  7.024031  5.995649  1.966057  1.868377  2.075318   \n",
       "\n",
       "          BbAv<2.5  Away_Win      Draw  \n",
       "Home_Win                                \n",
       "0         1.877572  0.525612  0.474388  \n",
       "1         1.962951  0.000000  0.000000  \n",
       "\n",
       "[2 rows x 31 columns]"
      ]
     },
     "execution_count": 104,
     "metadata": {},
     "output_type": "execute_result"
    }
   ],
   "source": [
    "df.groupby('Home_Win').mean()"
   ]
  },
  {
   "cell_type": "code",
   "execution_count": 105,
   "metadata": {},
   "outputs": [
    {
     "data": {
      "text/plain": [
       "Index(['Date', 'HomeTeam', 'AwayTeam', 'FTHG', 'FTAG', 'FTR', 'HTHG', 'HTAG',\n",
       "       'HTR', 'Referee', 'HS', 'AS', 'HST', 'AST', 'HC', 'AC', 'HF', 'AF',\n",
       "       'HY', 'AY', 'HR', 'AR', 'B365H', 'B365A', 'B365D', 'BbMxH', 'BbAvH',\n",
       "       'BbMxD', 'BbAvD', 'BbMxA', 'BbAvA', 'BbMx>2.5', 'BbAv>2.5', 'BbMx<2.5',\n",
       "       'BbAv<2.5', 'season', 'compar', 'Home_Win', 'Away_Win', 'Draw'],\n",
       "      dtype='object')"
      ]
     },
     "execution_count": 105,
     "metadata": {},
     "output_type": "execute_result"
    }
   ],
   "source": [
    "df.columns"
   ]
  },
  {
   "cell_type": "code",
   "execution_count": 106,
   "metadata": {},
   "outputs": [],
   "source": [
    "X = df[['HTHG', 'HTAG',\n",
    "        'HS', 'AS', 'HST', 'AST', 'HC', 'AC', 'HF', 'AF',\n",
    "       'HY', 'AY', 'HR', 'AR', 'B365H', 'B365A', 'B365D', 'BbMxH', 'BbAvH',\n",
    "       'BbMxD', 'BbAvD', 'BbMxA', 'BbAvA', 'BbMx>2.5', 'BbAv>2.5', 'BbMx<2.5',\n",
    "       'BbAv<2.5']]\n",
    "y = df['Home_Win']"
   ]
  },
  {
   "cell_type": "code",
   "execution_count": 107,
   "metadata": {},
   "outputs": [],
   "source": [
    "X_train, X_test, y_train, y_test = train_test_split(X, y, test_size=0.3, random_state=42)"
   ]
  },
  {
   "cell_type": "code",
   "execution_count": 108,
   "metadata": {},
   "outputs": [],
   "source": [
    "logreg = LogisticRegression(solver='lbfgs', max_iter = 10000)\n",
    "est = logreg.fit(X_train, y_train.values.ravel())"
   ]
  },
  {
   "cell_type": "code",
   "execution_count": 109,
   "metadata": {},
   "outputs": [
    {
     "name": "stdout",
     "output_type": "stream",
     "text": [
      "Optimization terminated successfully.\n",
      "         Current function value: 0.433804\n",
      "         Iterations 7\n",
      "                          Results: Logit\n",
      "==================================================================\n",
      "Model:              Logit            Pseudo R-squared: 0.372      \n",
      "Dependent Variable: Home_Win         AIC:              2592.6211  \n",
      "Date:               2019-03-30 00:04 BIC:              2754.1187  \n",
      "No. Observations:   2926             Log-Likelihood:   -1269.3    \n",
      "Df Model:           26               LL-Null:          -2020.7    \n",
      "Df Residuals:       2899             LLR p-value:      3.1019e-301\n",
      "Converged:          1.0000           Scale:            1.0000     \n",
      "No. Iterations:     7.0000                                        \n",
      "-------------------------------------------------------------------\n",
      "               Coef.   Std.Err.     z      P>|z|    [0.025   0.975]\n",
      "-------------------------------------------------------------------\n",
      "HTHG           1.4852    0.0817   18.1878  0.0000   1.3251   1.6452\n",
      "HTAG          -1.4173    0.0980  -14.4612  0.0000  -1.6094  -1.2252\n",
      "HS            -0.0444    0.0153   -2.8940  0.0038  -0.0744  -0.0143\n",
      "AS             0.0048    0.0178    0.2701  0.7871  -0.0301   0.0397\n",
      "HST            0.1929    0.0229    8.4402  0.0000   0.1481   0.2376\n",
      "AST           -0.1959    0.0269   -7.2869  0.0000  -0.2486  -0.1432\n",
      "HC            -0.0870    0.0189   -4.6090  0.0000  -0.1240  -0.0500\n",
      "AC             0.1017    0.0214    4.7545  0.0000   0.0598   0.1436\n",
      "HF            -0.0157    0.0153   -1.0264  0.3047  -0.0456   0.0142\n",
      "AF            -0.0023    0.0147   -0.1591  0.8736  -0.0312   0.0265\n",
      "HY             0.0744    0.0465    1.5986  0.1099  -0.0168   0.1656\n",
      "AY            -0.0720    0.0423   -1.7012  0.0889  -0.1549   0.0109\n",
      "HR            -1.0273    0.2249   -4.5682  0.0000  -1.4681  -0.5866\n",
      "AR             0.7903    0.1647    4.7984  0.0000   0.4675   1.1131\n",
      "B365H         -0.3273    0.4253   -0.7695  0.4416  -1.1608   0.5063\n",
      "B365A          0.1490    0.1194    1.2482  0.2120  -0.0850   0.3829\n",
      "B365D         -0.1855    0.4431   -0.4186  0.6755  -1.0540   0.6830\n",
      "BbMxH          0.1017    0.5421    0.1875  0.8513  -0.9609   1.1642\n",
      "BbAvH          0.1760    0.7307    0.2409  0.8096  -1.2562   1.6082\n",
      "BbMxD         -1.2550    0.5867   -2.1389  0.0324  -2.4049  -0.1050\n",
      "BbAvD          1.2518    0.8140    1.5378  0.1241  -0.3436   2.8472\n",
      "BbMxA         -0.0749    0.1318   -0.5680  0.5700  -0.3332   0.1835\n",
      "BbAvA          0.1800    0.2044    0.8809  0.3784  -0.2205   0.5805\n",
      "BbMx>2.5       0.2407    1.4775    0.1629  0.8706  -2.6552   3.1366\n",
      "BbAv>2.5      -0.3639    1.6194   -0.2247  0.8222  -3.5378   2.8100\n",
      "BbMx<2.5       0.6344    1.7029    0.3725  0.7095  -2.7033   3.9720\n",
      "BbAv<2.5      -0.5128    1.8976   -0.2703  0.7870  -4.2320   3.2063\n",
      "==================================================================\n",
      "\n"
     ]
    }
   ],
   "source": [
    "logit_model=sm.Logit(y_train,X_train)\n",
    "result=logit_model.fit()\n",
    "print(result.summary2())"
   ]
  },
  {
   "cell_type": "markdown",
   "metadata": {},
   "source": [
    "De manière évidente, toutes les variables ne sont pas significatives mais le modèle semble assez bon. "
   ]
  },
  {
   "cell_type": "code",
   "execution_count": 110,
   "metadata": {},
   "outputs": [
    {
     "name": "stdout",
     "output_type": "stream",
     "text": [
      "Accuracy of logistic regression classifier on train set: 0.80\n",
      "Accuracy of logistic regression classifier on test set: 0.78\n"
     ]
    }
   ],
   "source": [
    "y_pred_logit = logreg.predict(X_test)\n",
    "print('Accuracy of logistic regression classifier on train set: {:.2f}'.format(logreg.score(X_train, y_train)))\n",
    "print('Accuracy of logistic regression classifier on test set: {:.2f}'.format(logreg.score(X_test, y_test)))"
   ]
  },
  {
   "cell_type": "markdown",
   "metadata": {},
   "source": [
    "Quasiment 80% des victoires sont prédites correctement. "
   ]
  },
  {
   "cell_type": "code",
   "execution_count": 112,
   "metadata": {},
   "outputs": [
    {
     "name": "stdout",
     "output_type": "stream",
     "text": [
      "[[548 130]\n",
      " [144 432]]\n"
     ]
    }
   ],
   "source": [
    "print(confusion_matrix(y_test, y_pred_logit))"
   ]
  },
  {
   "cell_type": "code",
   "execution_count": 113,
   "metadata": {},
   "outputs": [
    {
     "name": "stdout",
     "output_type": "stream",
     "text": [
      "              precision    recall  f1-score   support\n",
      "\n",
      "           0       0.79      0.81      0.80       678\n",
      "           1       0.77      0.75      0.76       576\n",
      "\n",
      "   micro avg       0.78      0.78      0.78      1254\n",
      "   macro avg       0.78      0.78      0.78      1254\n",
      "weighted avg       0.78      0.78      0.78      1254\n",
      "\n"
     ]
    }
   ],
   "source": [
    "print(classification_report(y_test, y_pred_logit))"
   ]
  },
  {
   "cell_type": "code",
   "execution_count": 114,
   "metadata": {
    "scrolled": false
   },
   "outputs": [
    {
     "data": {
      "image/png": "[encoded data removed]",
      "text/plain": [
       "<Figure size 432x288 with 1 Axes>"
      ]
     },
     "metadata": {},
     "output_type": "display_data"
    }
   ],
   "source": [
    "logit_roc_auc = roc_auc_score(y_test, logreg.predict(X_test))\n",
    "fpr, tpr, thresholds = roc_curve(y_test, logreg.predict_proba(X_test)[:,1])\n",
    "plt.figure()\n",
    "plt.plot(fpr, tpr, label='Logistic Regression (area = %0.2f)' % logit_roc_auc)\n",
    "plt.plot([0, 1], [0, 1],'r--')\n",
    "plt.xlim([0.0, 1.0])\n",
    "plt.ylim([0.0, 1.05])\n",
    "plt.xlabel('False Positive Rate')\n",
    "plt.ylabel('True Positive Rate')\n",
    "plt.title('Receiver operating characteristic')\n",
    "plt.legend(loc=\"lower right\")\n",
    "plt.savefig('Log_ROC')\n",
    "plt.show()"
   ]
  },
  {
   "cell_type": "markdown",
   "metadata": {},
   "source": [
    "Les taux de faux positifs et faux négatids semmblent assez élevés mais nous pouvons relativiser et voir que le modèle est relativement bon puisque le score d'accuracy est à 80% et que l'aire sous la courbe ROC est de 0.78 (plus c'est prêt de 1 mieux c'est). "
   ]
  }
 ],
 "metadata": {
  "kernelspec": {
   "display_name": "Python 3",
   "language": "python",
   "name": "python3"
  },
  "language_info": {
   "codemirror_mode": {
    "name": "ipython",
    "version": 3
   },
   "file_extension": ".py",
   "mimetype": "text/x-python",
   "name": "python",
   "nbconvert_exporter": "python",
   "pygments_lexer": "ipython3",
   "version": "3.6.5"
  }
 },
 "nbformat": 4,
 "nbformat_minor": 2
}
